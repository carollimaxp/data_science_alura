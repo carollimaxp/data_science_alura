{
  "nbformat": 4,
  "nbformat_minor": 0,
  "metadata": {
    "colab": {
      "name": "DS Bootcamp - Módulo 2",
      "provenance": [],
      "toc_visible": true,
      "authorship_tag": "ABX9TyMiUTUtdjwTVRPjosCzxk/H",
      "include_colab_link": true
    },
    "kernelspec": {
      "name": "python3",
      "display_name": "Python 3"
    }
  },
  "cells": [
    {
      "cell_type": "markdown",
      "metadata": {
        "id": "view-in-github",
        "colab_type": "text"
      },
      "source": [
        "<a href=\"https://colab.research.google.com/github/carollimaxp/data_science_alura/blob/main/DS_Bootcamp_M%C3%B3dulo_2.ipynb\" target=\"_parent\"><img src=\"https://colab.research.google.com/assets/colab-badge.svg\" alt=\"Open In Colab\"/></a>"
      ]
    },
    {
      "cell_type": "markdown",
      "metadata": {
        "id": "uPj-yEEARC9G"
      },
      "source": [
        "# Pré Aula 1\n",
        "\n",
        "\n",
        "1.   Imports\n",
        "2.   Transformação dos milhares\n",
        "\n"
      ]
    },
    {
      "cell_type": "markdown",
      "metadata": {
        "id": "GSAn2qYGQ3II"
      },
      "source": [
        "Imports para o Módulo 2"
      ]
    },
    {
      "cell_type": "code",
      "metadata": {
        "id": "N6BCQrZ8Qnjy"
      },
      "source": [
        "#Imports - Módulo 1\n",
        "import pandas as pd\n",
        "import matplotlib.pyplot as plt\n",
        "import matplotlib.ticker as ticker\n",
        "from matplotlib.font_manager import FontProperties\n",
        "import numpy as np\n",
        "from io import StringIO\n",
        "\n",
        "# Modulo 2 - Aula 2\n",
        "import seaborn as sns\n"
      ],
      "execution_count": 1,
      "outputs": []
    },
    {
      "cell_type": "markdown",
      "metadata": {
        "id": "O9J6jKztQxVH"
      },
      "source": [
        "Formatação dos Reais em milhões e bilhões"
      ]
    },
    {
      "cell_type": "code",
      "metadata": {
        "id": "Mna9V4A1QwRd"
      },
      "source": [
        "# url https://dfrieds.com/data-visualizations/when-use-log-scale.html\n",
        "\n",
        "def reformat_large_tick_values(tick_val, pos):\n",
        "    \"\"\"\n",
        "    Turns large tick values (in the billions, millions and thousands) such as 4500 into 4.5K and also appropriately turns 4000 into 4K (no zero after the decimal).\n",
        "    \"\"\"\n",
        "    if tick_val >= 1000000000:\n",
        "        val = round(tick_val/1000000000, 1)\n",
        "        new_tick_format = '{:}B'.format(val)\n",
        "    elif tick_val >= 1000000:\n",
        "        val = round(tick_val/1000000, 1)\n",
        "        new_tick_format = '{:}M'.format(val)\n",
        "    elif tick_val >= 1000:\n",
        "        val = round(tick_val/1000, 1)\n",
        "        new_tick_format = '{:}K'.format(val)\n",
        "    elif tick_val < 1000:\n",
        "        new_tick_format = round(tick_val, 1)\n",
        "    else:\n",
        "        new_tick_format = tick_val\n",
        "\n",
        "    # make new_tick_format into a string value\n",
        "    new_tick_format = str(new_tick_format)\n",
        "    \n",
        "    # code below will keep 4.5M as is but change values such as 4.0M to 4M since that zero after the decimal isn't needed\n",
        "    index_of_decimal = new_tick_format.find(\".\")\n",
        "    \n",
        "    if index_of_decimal != -1:\n",
        "        value_after_decimal = new_tick_format[index_of_decimal+1]\n",
        "        if value_after_decimal == \"0\":\n",
        "            # remove the 0 after the decimal point since it's not needed\n",
        "            new_tick_format = new_tick_format[0:index_of_decimal] + new_tick_format[index_of_decimal+2:]\n",
        "            \n",
        "    return new_tick_format"
      ],
      "execution_count": 2,
      "outputs": []
    },
    {
      "cell_type": "markdown",
      "metadata": {
        "id": "pD0hYLLJQ7YP"
      },
      "source": [
        "# Aula 1"
      ]
    },
    {
      "cell_type": "markdown",
      "metadata": {
        "id": "k2oVNjar4tQq"
      },
      "source": [
        "## Explorando dados do Módulo 1"
      ]
    },
    {
      "cell_type": "markdown",
      "metadata": {
        "id": "gQ4IaqLZxZsL"
      },
      "source": [
        "### Leitura cvs"
      ]
    },
    {
      "cell_type": "code",
      "metadata": {
        "colab": {
          "base_uri": "https://localhost:8080/",
          "height": 245
        },
        "id": "UP7wZwaXwdfl",
        "outputId": "c9c2f71b-4407-433c-f571-e575dc2ee2cb"
      },
      "source": [
        "dados = pd.read_csv(\"https://raw.githubusercontent.com/carollimaxp/data_science_alura/main/Dados/A160324189_28_143_208.csv\", \n",
        "                    encoding=\"ISO-8859-1\", \n",
        "                    skiprows = 3,\n",
        "                    delimiter=\";\",\n",
        "                    skipfooter = 12,\n",
        "                    thousands=\".\",\n",
        "                    decimal=\",\",\n",
        "                    na_values = \"-\")\n",
        "dados.head(2)"
      ],
      "execution_count": 3,
      "outputs": [
        {
          "output_type": "stream",
          "text": [
            "/usr/local/lib/python3.6/dist-packages/ipykernel_launcher.py:8: ParserWarning: Falling back to the 'python' engine because the 'c' engine does not support skipfooter; you can avoid this warning by specifying engine='python'.\n",
            "  \n"
          ],
          "name": "stderr"
        },
        {
          "output_type": "execute_result",
          "data": {
            "text/html": [
              "<div>\n",
              "<style scoped>\n",
              "    .dataframe tbody tr th:only-of-type {\n",
              "        vertical-align: middle;\n",
              "    }\n",
              "\n",
              "    .dataframe tbody tr th {\n",
              "        vertical-align: top;\n",
              "    }\n",
              "\n",
              "    .dataframe thead th {\n",
              "        text-align: right;\n",
              "    }\n",
              "</style>\n",
              "<table border=\"1\" class=\"dataframe\">\n",
              "  <thead>\n",
              "    <tr style=\"text-align: right;\">\n",
              "      <th></th>\n",
              "      <th>Unidade da Federação</th>\n",
              "      <th>1992/Mar</th>\n",
              "      <th>1992/Abr</th>\n",
              "      <th>1993/Mai</th>\n",
              "      <th>1993/Dez</th>\n",
              "      <th>1994/Jan</th>\n",
              "      <th>1994/Fev</th>\n",
              "      <th>1994/Mai</th>\n",
              "      <th>1994/Ago</th>\n",
              "      <th>1994/Nov</th>\n",
              "      <th>1995/Jan</th>\n",
              "      <th>1995/Mar</th>\n",
              "      <th>1995/Jun</th>\n",
              "      <th>1995/Ago</th>\n",
              "      <th>1995/Dez</th>\n",
              "      <th>1996/Fev</th>\n",
              "      <th>1996/Mar</th>\n",
              "      <th>1996/Ago</th>\n",
              "      <th>1996/Dez</th>\n",
              "      <th>1997/Fev</th>\n",
              "      <th>1997/Nov</th>\n",
              "      <th>1998/Fev</th>\n",
              "      <th>1998/Mar</th>\n",
              "      <th>1998/Jul</th>\n",
              "      <th>1998/Ago</th>\n",
              "      <th>1998/Set</th>\n",
              "      <th>1998/Out</th>\n",
              "      <th>1998/Dez</th>\n",
              "      <th>1999/Fev</th>\n",
              "      <th>1999/Mar</th>\n",
              "      <th>1999/Mai</th>\n",
              "      <th>1999/Jul</th>\n",
              "      <th>1999/Ago</th>\n",
              "      <th>1999/Set</th>\n",
              "      <th>1999/Out</th>\n",
              "      <th>1999/Nov</th>\n",
              "      <th>1999/Dez</th>\n",
              "      <th>2000/Jan</th>\n",
              "      <th>2000/Fev</th>\n",
              "      <th>2000/Mar</th>\n",
              "      <th>...</th>\n",
              "      <th>2017/Jun</th>\n",
              "      <th>2017/Jul</th>\n",
              "      <th>2017/Ago</th>\n",
              "      <th>2017/Set</th>\n",
              "      <th>2017/Out</th>\n",
              "      <th>2017/Nov</th>\n",
              "      <th>2017/Dez</th>\n",
              "      <th>2018/Jan</th>\n",
              "      <th>2018/Fev</th>\n",
              "      <th>2018/Mar</th>\n",
              "      <th>2018/Abr</th>\n",
              "      <th>2018/Mai</th>\n",
              "      <th>2018/Jun</th>\n",
              "      <th>2018/Jul</th>\n",
              "      <th>2018/Ago</th>\n",
              "      <th>2018/Set</th>\n",
              "      <th>2018/Out</th>\n",
              "      <th>2018/Nov</th>\n",
              "      <th>2018/Dez</th>\n",
              "      <th>2019/Jan</th>\n",
              "      <th>2019/Fev</th>\n",
              "      <th>2019/Mar</th>\n",
              "      <th>2019/Abr</th>\n",
              "      <th>2019/Mai</th>\n",
              "      <th>2019/Jun</th>\n",
              "      <th>2019/Jul</th>\n",
              "      <th>2019/Ago</th>\n",
              "      <th>2019/Set</th>\n",
              "      <th>2019/Out</th>\n",
              "      <th>2019/Nov</th>\n",
              "      <th>2019/Dez</th>\n",
              "      <th>2020/Jan</th>\n",
              "      <th>2020/Fev</th>\n",
              "      <th>2020/Mar</th>\n",
              "      <th>2020/Abr</th>\n",
              "      <th>2020/Mai</th>\n",
              "      <th>2020/Jun</th>\n",
              "      <th>2020/Jul</th>\n",
              "      <th>2020/Ago</th>\n",
              "      <th>Total</th>\n",
              "    </tr>\n",
              "  </thead>\n",
              "  <tbody>\n",
              "    <tr>\n",
              "      <th>0</th>\n",
              "      <td>11 Rondônia</td>\n",
              "      <td>NaN</td>\n",
              "      <td>NaN</td>\n",
              "      <td>NaN</td>\n",
              "      <td>NaN</td>\n",
              "      <td>NaN</td>\n",
              "      <td>NaN</td>\n",
              "      <td>NaN</td>\n",
              "      <td>NaN</td>\n",
              "      <td>NaN</td>\n",
              "      <td>NaN</td>\n",
              "      <td>NaN</td>\n",
              "      <td>NaN</td>\n",
              "      <td>NaN</td>\n",
              "      <td>NaN</td>\n",
              "      <td>NaN</td>\n",
              "      <td>NaN</td>\n",
              "      <td>NaN</td>\n",
              "      <td>NaN</td>\n",
              "      <td>NaN</td>\n",
              "      <td>NaN</td>\n",
              "      <td>NaN</td>\n",
              "      <td>NaN</td>\n",
              "      <td>NaN</td>\n",
              "      <td>NaN</td>\n",
              "      <td>NaN</td>\n",
              "      <td>NaN</td>\n",
              "      <td>NaN</td>\n",
              "      <td>NaN</td>\n",
              "      <td>NaN</td>\n",
              "      <td>NaN</td>\n",
              "      <td>NaN</td>\n",
              "      <td>NaN</td>\n",
              "      <td>NaN</td>\n",
              "      <td>NaN</td>\n",
              "      <td>NaN</td>\n",
              "      <td>NaN</td>\n",
              "      <td>NaN</td>\n",
              "      <td>NaN</td>\n",
              "      <td>NaN</td>\n",
              "      <td>...</td>\n",
              "      <td>8041248.80</td>\n",
              "      <td>8199032.67</td>\n",
              "      <td>8363386.07</td>\n",
              "      <td>7889819.50</td>\n",
              "      <td>8603943.85</td>\n",
              "      <td>8048398.25</td>\n",
              "      <td>8159737.49</td>\n",
              "      <td>8457455.71</td>\n",
              "      <td>7766983.20</td>\n",
              "      <td>8858845.57</td>\n",
              "      <td>8407076.44</td>\n",
              "      <td>9492938.92</td>\n",
              "      <td>8206195.92</td>\n",
              "      <td>9011612.58</td>\n",
              "      <td>9124967.84</td>\n",
              "      <td>8406732.72</td>\n",
              "      <td>8411360.02</td>\n",
              "      <td>8651081.66</td>\n",
              "      <td>8193425.99</td>\n",
              "      <td>8388269.45</td>\n",
              "      <td>8645315.78</td>\n",
              "      <td>9050329.13</td>\n",
              "      <td>9211262.51</td>\n",
              "      <td>9490545.02</td>\n",
              "      <td>8600886.20</td>\n",
              "      <td>8919190.86</td>\n",
              "      <td>8909111.89</td>\n",
              "      <td>8409386.09</td>\n",
              "      <td>8924348.41</td>\n",
              "      <td>8948605.66</td>\n",
              "      <td>8660753.05</td>\n",
              "      <td>8326416.32</td>\n",
              "      <td>8413784.42</td>\n",
              "      <td>7174312.31</td>\n",
              "      <td>7423678.64</td>\n",
              "      <td>8581195.13</td>\n",
              "      <td>9193593.76</td>\n",
              "      <td>7407388.24</td>\n",
              "      <td>3556381.57</td>\n",
              "      <td>9.291297e+08</td>\n",
              "    </tr>\n",
              "    <tr>\n",
              "      <th>1</th>\n",
              "      <td>12 Acre</td>\n",
              "      <td>NaN</td>\n",
              "      <td>NaN</td>\n",
              "      <td>NaN</td>\n",
              "      <td>NaN</td>\n",
              "      <td>NaN</td>\n",
              "      <td>NaN</td>\n",
              "      <td>NaN</td>\n",
              "      <td>NaN</td>\n",
              "      <td>NaN</td>\n",
              "      <td>NaN</td>\n",
              "      <td>NaN</td>\n",
              "      <td>NaN</td>\n",
              "      <td>NaN</td>\n",
              "      <td>NaN</td>\n",
              "      <td>NaN</td>\n",
              "      <td>NaN</td>\n",
              "      <td>NaN</td>\n",
              "      <td>NaN</td>\n",
              "      <td>NaN</td>\n",
              "      <td>NaN</td>\n",
              "      <td>NaN</td>\n",
              "      <td>NaN</td>\n",
              "      <td>NaN</td>\n",
              "      <td>NaN</td>\n",
              "      <td>NaN</td>\n",
              "      <td>NaN</td>\n",
              "      <td>NaN</td>\n",
              "      <td>NaN</td>\n",
              "      <td>NaN</td>\n",
              "      <td>NaN</td>\n",
              "      <td>NaN</td>\n",
              "      <td>NaN</td>\n",
              "      <td>NaN</td>\n",
              "      <td>NaN</td>\n",
              "      <td>NaN</td>\n",
              "      <td>NaN</td>\n",
              "      <td>NaN</td>\n",
              "      <td>NaN</td>\n",
              "      <td>NaN</td>\n",
              "      <td>...</td>\n",
              "      <td>3355223.35</td>\n",
              "      <td>3562691.54</td>\n",
              "      <td>3375296.64</td>\n",
              "      <td>3341497.58</td>\n",
              "      <td>3358378.05</td>\n",
              "      <td>3145385.44</td>\n",
              "      <td>2638773.92</td>\n",
              "      <td>2968168.75</td>\n",
              "      <td>2769797.39</td>\n",
              "      <td>3057631.96</td>\n",
              "      <td>2874965.31</td>\n",
              "      <td>3175575.17</td>\n",
              "      <td>3060903.21</td>\n",
              "      <td>3253011.61</td>\n",
              "      <td>3040645.05</td>\n",
              "      <td>2926179.27</td>\n",
              "      <td>3126120.64</td>\n",
              "      <td>2473454.85</td>\n",
              "      <td>2277493.49</td>\n",
              "      <td>2594347.32</td>\n",
              "      <td>2234388.36</td>\n",
              "      <td>2473008.49</td>\n",
              "      <td>2979764.77</td>\n",
              "      <td>3070533.95</td>\n",
              "      <td>3249052.69</td>\n",
              "      <td>3567538.64</td>\n",
              "      <td>2981072.98</td>\n",
              "      <td>2998860.31</td>\n",
              "      <td>3293378.97</td>\n",
              "      <td>3174249.43</td>\n",
              "      <td>2959569.09</td>\n",
              "      <td>3261123.88</td>\n",
              "      <td>2981264.22</td>\n",
              "      <td>2859102.06</td>\n",
              "      <td>2472063.08</td>\n",
              "      <td>2383895.48</td>\n",
              "      <td>2199920.70</td>\n",
              "      <td>1163813.08</td>\n",
              "      <td>NaN</td>\n",
              "      <td>4.206680e+08</td>\n",
              "    </tr>\n",
              "  </tbody>\n",
              "</table>\n",
              "<p>2 rows × 280 columns</p>\n",
              "</div>"
            ],
            "text/plain": [
              "  Unidade da Federação  1992/Mar  ...    2020/Ago         Total\n",
              "0          11 Rondônia       NaN  ...  3556381.57  9.291297e+08\n",
              "1              12 Acre       NaN  ...         NaN  4.206680e+08\n",
              "\n",
              "[2 rows x 280 columns]"
            ]
          },
          "metadata": {
            "tags": []
          },
          "execution_count": 3
        }
      ]
    },
    {
      "cell_type": "markdown",
      "metadata": {
        "id": "bkPPn56v1LnT"
      },
      "source": [
        "### Formatando os números com duas casas decimais (float)"
      ]
    },
    {
      "cell_type": "code",
      "metadata": {
        "id": "U6FiXvYZ1S_M"
      },
      "source": [
        "pd.options.display.float_format = \"{:.2f}\".format"
      ],
      "execution_count": 4,
      "outputs": []
    },
    {
      "cell_type": "markdown",
      "metadata": {
        "id": "gFqbctot3ME6"
      },
      "source": [
        "### Criando um novo df dos dados que serão utilizados"
      ]
    },
    {
      "cell_type": "code",
      "metadata": {
        "id": "dwHe1v68slHj",
        "colab": {
          "base_uri": "https://localhost:8080/",
          "height": 211
        },
        "outputId": "18e3ba50-fb92-4d8c-bf09-325079b342b1"
      },
      "source": [
        "#Identificando os index das colunas\n",
        "colunas_usaveis = dados.mean().index.to_list()\n",
        "colunas_usaveis.insert(0,\"Unidade da Federação\")\n",
        "\n",
        "# Gerando df usáveis\n",
        "usaveis = dados[colunas_usaveis]\n",
        "usaveis.head(2)"
      ],
      "execution_count": 5,
      "outputs": [
        {
          "output_type": "execute_result",
          "data": {
            "text/html": [
              "<div>\n",
              "<style scoped>\n",
              "    .dataframe tbody tr th:only-of-type {\n",
              "        vertical-align: middle;\n",
              "    }\n",
              "\n",
              "    .dataframe tbody tr th {\n",
              "        vertical-align: top;\n",
              "    }\n",
              "\n",
              "    .dataframe thead th {\n",
              "        text-align: right;\n",
              "    }\n",
              "</style>\n",
              "<table border=\"1\" class=\"dataframe\">\n",
              "  <thead>\n",
              "    <tr style=\"text-align: right;\">\n",
              "      <th></th>\n",
              "      <th>Unidade da Federação</th>\n",
              "      <th>1992/Mar</th>\n",
              "      <th>1992/Abr</th>\n",
              "      <th>1993/Mai</th>\n",
              "      <th>1993/Dez</th>\n",
              "      <th>1994/Jan</th>\n",
              "      <th>1994/Fev</th>\n",
              "      <th>1994/Mai</th>\n",
              "      <th>1994/Ago</th>\n",
              "      <th>1994/Nov</th>\n",
              "      <th>1995/Jan</th>\n",
              "      <th>1995/Mar</th>\n",
              "      <th>1995/Jun</th>\n",
              "      <th>1995/Ago</th>\n",
              "      <th>1995/Dez</th>\n",
              "      <th>1996/Fev</th>\n",
              "      <th>1996/Mar</th>\n",
              "      <th>1996/Ago</th>\n",
              "      <th>1996/Dez</th>\n",
              "      <th>1997/Fev</th>\n",
              "      <th>1997/Nov</th>\n",
              "      <th>1998/Fev</th>\n",
              "      <th>1998/Mar</th>\n",
              "      <th>1998/Jul</th>\n",
              "      <th>1998/Ago</th>\n",
              "      <th>1998/Set</th>\n",
              "      <th>1998/Out</th>\n",
              "      <th>1998/Dez</th>\n",
              "      <th>1999/Fev</th>\n",
              "      <th>1999/Mar</th>\n",
              "      <th>1999/Mai</th>\n",
              "      <th>1999/Jul</th>\n",
              "      <th>1999/Ago</th>\n",
              "      <th>1999/Set</th>\n",
              "      <th>1999/Out</th>\n",
              "      <th>1999/Nov</th>\n",
              "      <th>1999/Dez</th>\n",
              "      <th>2000/Jan</th>\n",
              "      <th>2000/Fev</th>\n",
              "      <th>2000/Mar</th>\n",
              "      <th>...</th>\n",
              "      <th>2017/Jun</th>\n",
              "      <th>2017/Jul</th>\n",
              "      <th>2017/Ago</th>\n",
              "      <th>2017/Set</th>\n",
              "      <th>2017/Out</th>\n",
              "      <th>2017/Nov</th>\n",
              "      <th>2017/Dez</th>\n",
              "      <th>2018/Jan</th>\n",
              "      <th>2018/Fev</th>\n",
              "      <th>2018/Mar</th>\n",
              "      <th>2018/Abr</th>\n",
              "      <th>2018/Mai</th>\n",
              "      <th>2018/Jun</th>\n",
              "      <th>2018/Jul</th>\n",
              "      <th>2018/Ago</th>\n",
              "      <th>2018/Set</th>\n",
              "      <th>2018/Out</th>\n",
              "      <th>2018/Nov</th>\n",
              "      <th>2018/Dez</th>\n",
              "      <th>2019/Jan</th>\n",
              "      <th>2019/Fev</th>\n",
              "      <th>2019/Mar</th>\n",
              "      <th>2019/Abr</th>\n",
              "      <th>2019/Mai</th>\n",
              "      <th>2019/Jun</th>\n",
              "      <th>2019/Jul</th>\n",
              "      <th>2019/Ago</th>\n",
              "      <th>2019/Set</th>\n",
              "      <th>2019/Out</th>\n",
              "      <th>2019/Nov</th>\n",
              "      <th>2019/Dez</th>\n",
              "      <th>2020/Jan</th>\n",
              "      <th>2020/Fev</th>\n",
              "      <th>2020/Mar</th>\n",
              "      <th>2020/Abr</th>\n",
              "      <th>2020/Mai</th>\n",
              "      <th>2020/Jun</th>\n",
              "      <th>2020/Jul</th>\n",
              "      <th>2020/Ago</th>\n",
              "      <th>Total</th>\n",
              "    </tr>\n",
              "  </thead>\n",
              "  <tbody>\n",
              "    <tr>\n",
              "      <th>0</th>\n",
              "      <td>11 Rondônia</td>\n",
              "      <td>nan</td>\n",
              "      <td>nan</td>\n",
              "      <td>nan</td>\n",
              "      <td>nan</td>\n",
              "      <td>nan</td>\n",
              "      <td>nan</td>\n",
              "      <td>nan</td>\n",
              "      <td>nan</td>\n",
              "      <td>nan</td>\n",
              "      <td>nan</td>\n",
              "      <td>nan</td>\n",
              "      <td>nan</td>\n",
              "      <td>nan</td>\n",
              "      <td>nan</td>\n",
              "      <td>nan</td>\n",
              "      <td>nan</td>\n",
              "      <td>nan</td>\n",
              "      <td>nan</td>\n",
              "      <td>nan</td>\n",
              "      <td>nan</td>\n",
              "      <td>nan</td>\n",
              "      <td>nan</td>\n",
              "      <td>nan</td>\n",
              "      <td>nan</td>\n",
              "      <td>nan</td>\n",
              "      <td>nan</td>\n",
              "      <td>nan</td>\n",
              "      <td>nan</td>\n",
              "      <td>nan</td>\n",
              "      <td>nan</td>\n",
              "      <td>nan</td>\n",
              "      <td>nan</td>\n",
              "      <td>nan</td>\n",
              "      <td>nan</td>\n",
              "      <td>nan</td>\n",
              "      <td>nan</td>\n",
              "      <td>nan</td>\n",
              "      <td>nan</td>\n",
              "      <td>nan</td>\n",
              "      <td>...</td>\n",
              "      <td>8041248.80</td>\n",
              "      <td>8199032.67</td>\n",
              "      <td>8363386.07</td>\n",
              "      <td>7889819.50</td>\n",
              "      <td>8603943.85</td>\n",
              "      <td>8048398.25</td>\n",
              "      <td>8159737.49</td>\n",
              "      <td>8457455.71</td>\n",
              "      <td>7766983.20</td>\n",
              "      <td>8858845.57</td>\n",
              "      <td>8407076.44</td>\n",
              "      <td>9492938.92</td>\n",
              "      <td>8206195.92</td>\n",
              "      <td>9011612.58</td>\n",
              "      <td>9124967.84</td>\n",
              "      <td>8406732.72</td>\n",
              "      <td>8411360.02</td>\n",
              "      <td>8651081.66</td>\n",
              "      <td>8193425.99</td>\n",
              "      <td>8388269.45</td>\n",
              "      <td>8645315.78</td>\n",
              "      <td>9050329.13</td>\n",
              "      <td>9211262.51</td>\n",
              "      <td>9490545.02</td>\n",
              "      <td>8600886.20</td>\n",
              "      <td>8919190.86</td>\n",
              "      <td>8909111.89</td>\n",
              "      <td>8409386.09</td>\n",
              "      <td>8924348.41</td>\n",
              "      <td>8948605.66</td>\n",
              "      <td>8660753.05</td>\n",
              "      <td>8326416.32</td>\n",
              "      <td>8413784.42</td>\n",
              "      <td>7174312.31</td>\n",
              "      <td>7423678.64</td>\n",
              "      <td>8581195.13</td>\n",
              "      <td>9193593.76</td>\n",
              "      <td>7407388.24</td>\n",
              "      <td>3556381.57</td>\n",
              "      <td>929129659.72</td>\n",
              "    </tr>\n",
              "    <tr>\n",
              "      <th>1</th>\n",
              "      <td>12 Acre</td>\n",
              "      <td>nan</td>\n",
              "      <td>nan</td>\n",
              "      <td>nan</td>\n",
              "      <td>nan</td>\n",
              "      <td>nan</td>\n",
              "      <td>nan</td>\n",
              "      <td>nan</td>\n",
              "      <td>nan</td>\n",
              "      <td>nan</td>\n",
              "      <td>nan</td>\n",
              "      <td>nan</td>\n",
              "      <td>nan</td>\n",
              "      <td>nan</td>\n",
              "      <td>nan</td>\n",
              "      <td>nan</td>\n",
              "      <td>nan</td>\n",
              "      <td>nan</td>\n",
              "      <td>nan</td>\n",
              "      <td>nan</td>\n",
              "      <td>nan</td>\n",
              "      <td>nan</td>\n",
              "      <td>nan</td>\n",
              "      <td>nan</td>\n",
              "      <td>nan</td>\n",
              "      <td>nan</td>\n",
              "      <td>nan</td>\n",
              "      <td>nan</td>\n",
              "      <td>nan</td>\n",
              "      <td>nan</td>\n",
              "      <td>nan</td>\n",
              "      <td>nan</td>\n",
              "      <td>nan</td>\n",
              "      <td>nan</td>\n",
              "      <td>nan</td>\n",
              "      <td>nan</td>\n",
              "      <td>nan</td>\n",
              "      <td>nan</td>\n",
              "      <td>nan</td>\n",
              "      <td>nan</td>\n",
              "      <td>...</td>\n",
              "      <td>3355223.35</td>\n",
              "      <td>3562691.54</td>\n",
              "      <td>3375296.64</td>\n",
              "      <td>3341497.58</td>\n",
              "      <td>3358378.05</td>\n",
              "      <td>3145385.44</td>\n",
              "      <td>2638773.92</td>\n",
              "      <td>2968168.75</td>\n",
              "      <td>2769797.39</td>\n",
              "      <td>3057631.96</td>\n",
              "      <td>2874965.31</td>\n",
              "      <td>3175575.17</td>\n",
              "      <td>3060903.21</td>\n",
              "      <td>3253011.61</td>\n",
              "      <td>3040645.05</td>\n",
              "      <td>2926179.27</td>\n",
              "      <td>3126120.64</td>\n",
              "      <td>2473454.85</td>\n",
              "      <td>2277493.49</td>\n",
              "      <td>2594347.32</td>\n",
              "      <td>2234388.36</td>\n",
              "      <td>2473008.49</td>\n",
              "      <td>2979764.77</td>\n",
              "      <td>3070533.95</td>\n",
              "      <td>3249052.69</td>\n",
              "      <td>3567538.64</td>\n",
              "      <td>2981072.98</td>\n",
              "      <td>2998860.31</td>\n",
              "      <td>3293378.97</td>\n",
              "      <td>3174249.43</td>\n",
              "      <td>2959569.09</td>\n",
              "      <td>3261123.88</td>\n",
              "      <td>2981264.22</td>\n",
              "      <td>2859102.06</td>\n",
              "      <td>2472063.08</td>\n",
              "      <td>2383895.48</td>\n",
              "      <td>2199920.70</td>\n",
              "      <td>1163813.08</td>\n",
              "      <td>nan</td>\n",
              "      <td>420668039.63</td>\n",
              "    </tr>\n",
              "  </tbody>\n",
              "</table>\n",
              "<p>2 rows × 280 columns</p>\n",
              "</div>"
            ],
            "text/plain": [
              "  Unidade da Federação  1992/Mar  1992/Abr  ...   2020/Jul   2020/Ago        Total\n",
              "0          11 Rondônia       nan       nan  ... 7407388.24 3556381.57 929129659.72\n",
              "1              12 Acre       nan       nan  ... 1163813.08        nan 420668039.63\n",
              "\n",
              "[2 rows x 280 columns]"
            ]
          },
          "metadata": {
            "tags": []
          },
          "execution_count": 5
        }
      ]
    },
    {
      "cell_type": "markdown",
      "metadata": {
        "id": "SFBoNaZx3As0"
      },
      "source": [
        "Removendo colunas com NaN"
      ]
    },
    {
      "cell_type": "code",
      "metadata": {
        "colab": {
          "base_uri": "https://localhost:8080/",
          "height": 211
        },
        "id": "eqg8-Rez2nHL",
        "outputId": "7b7eb854-dc4e-4363-e4b1-ec9eff9f6cb7"
      },
      "source": [
        "usaveis = usaveis.dropna(axis=1)\n",
        "usaveis.head(2)"
      ],
      "execution_count": 6,
      "outputs": [
        {
          "output_type": "execute_result",
          "data": {
            "text/html": [
              "<div>\n",
              "<style scoped>\n",
              "    .dataframe tbody tr th:only-of-type {\n",
              "        vertical-align: middle;\n",
              "    }\n",
              "\n",
              "    .dataframe tbody tr th {\n",
              "        vertical-align: top;\n",
              "    }\n",
              "\n",
              "    .dataframe thead th {\n",
              "        text-align: right;\n",
              "    }\n",
              "</style>\n",
              "<table border=\"1\" class=\"dataframe\">\n",
              "  <thead>\n",
              "    <tr style=\"text-align: right;\">\n",
              "      <th></th>\n",
              "      <th>Unidade da Federação</th>\n",
              "      <th>2007/Ago</th>\n",
              "      <th>2007/Set</th>\n",
              "      <th>2007/Out</th>\n",
              "      <th>2007/Nov</th>\n",
              "      <th>2007/Dez</th>\n",
              "      <th>2008/Jan</th>\n",
              "      <th>2008/Fev</th>\n",
              "      <th>2008/Mar</th>\n",
              "      <th>2008/Abr</th>\n",
              "      <th>2008/Mai</th>\n",
              "      <th>2008/Jun</th>\n",
              "      <th>2008/Jul</th>\n",
              "      <th>2008/Ago</th>\n",
              "      <th>2008/Set</th>\n",
              "      <th>2008/Out</th>\n",
              "      <th>2008/Nov</th>\n",
              "      <th>2008/Dez</th>\n",
              "      <th>2009/Jan</th>\n",
              "      <th>2009/Fev</th>\n",
              "      <th>2009/Mar</th>\n",
              "      <th>2009/Abr</th>\n",
              "      <th>2009/Mai</th>\n",
              "      <th>2009/Jun</th>\n",
              "      <th>2009/Jul</th>\n",
              "      <th>2009/Ago</th>\n",
              "      <th>2009/Set</th>\n",
              "      <th>2009/Out</th>\n",
              "      <th>2009/Nov</th>\n",
              "      <th>2009/Dez</th>\n",
              "      <th>2010/Jan</th>\n",
              "      <th>2010/Fev</th>\n",
              "      <th>2010/Mar</th>\n",
              "      <th>2010/Abr</th>\n",
              "      <th>2010/Mai</th>\n",
              "      <th>2010/Jun</th>\n",
              "      <th>2010/Jul</th>\n",
              "      <th>2010/Ago</th>\n",
              "      <th>2010/Set</th>\n",
              "      <th>2010/Out</th>\n",
              "      <th>...</th>\n",
              "      <th>2017/Mai</th>\n",
              "      <th>2017/Jun</th>\n",
              "      <th>2017/Jul</th>\n",
              "      <th>2017/Ago</th>\n",
              "      <th>2017/Set</th>\n",
              "      <th>2017/Out</th>\n",
              "      <th>2017/Nov</th>\n",
              "      <th>2017/Dez</th>\n",
              "      <th>2018/Jan</th>\n",
              "      <th>2018/Fev</th>\n",
              "      <th>2018/Mar</th>\n",
              "      <th>2018/Abr</th>\n",
              "      <th>2018/Mai</th>\n",
              "      <th>2018/Jun</th>\n",
              "      <th>2018/Jul</th>\n",
              "      <th>2018/Ago</th>\n",
              "      <th>2018/Set</th>\n",
              "      <th>2018/Out</th>\n",
              "      <th>2018/Nov</th>\n",
              "      <th>2018/Dez</th>\n",
              "      <th>2019/Jan</th>\n",
              "      <th>2019/Fev</th>\n",
              "      <th>2019/Mar</th>\n",
              "      <th>2019/Abr</th>\n",
              "      <th>2019/Mai</th>\n",
              "      <th>2019/Jun</th>\n",
              "      <th>2019/Jul</th>\n",
              "      <th>2019/Ago</th>\n",
              "      <th>2019/Set</th>\n",
              "      <th>2019/Out</th>\n",
              "      <th>2019/Nov</th>\n",
              "      <th>2019/Dez</th>\n",
              "      <th>2020/Jan</th>\n",
              "      <th>2020/Fev</th>\n",
              "      <th>2020/Mar</th>\n",
              "      <th>2020/Abr</th>\n",
              "      <th>2020/Mai</th>\n",
              "      <th>2020/Jun</th>\n",
              "      <th>2020/Jul</th>\n",
              "      <th>Total</th>\n",
              "    </tr>\n",
              "  </thead>\n",
              "  <tbody>\n",
              "    <tr>\n",
              "      <th>0</th>\n",
              "      <td>11 Rondônia</td>\n",
              "      <td>4209.37</td>\n",
              "      <td>16397.03</td>\n",
              "      <td>133645.19</td>\n",
              "      <td>346912.84</td>\n",
              "      <td>711758.31</td>\n",
              "      <td>1829559.71</td>\n",
              "      <td>1940792.63</td>\n",
              "      <td>1955721.68</td>\n",
              "      <td>2143353.81</td>\n",
              "      <td>2280382.58</td>\n",
              "      <td>2624542.97</td>\n",
              "      <td>2973421.02</td>\n",
              "      <td>2938286.29</td>\n",
              "      <td>2843930.91</td>\n",
              "      <td>2878153.20</td>\n",
              "      <td>2780022.62</td>\n",
              "      <td>2651804.89</td>\n",
              "      <td>3147566.24</td>\n",
              "      <td>3082108.12</td>\n",
              "      <td>4190355.33</td>\n",
              "      <td>4040251.62</td>\n",
              "      <td>3946423.71</td>\n",
              "      <td>3372377.96</td>\n",
              "      <td>3720608.86</td>\n",
              "      <td>3787323.26</td>\n",
              "      <td>3679369.94</td>\n",
              "      <td>3866146.99</td>\n",
              "      <td>3667808.60</td>\n",
              "      <td>3633471.79</td>\n",
              "      <td>3812315.59</td>\n",
              "      <td>3911776.03</td>\n",
              "      <td>4663060.75</td>\n",
              "      <td>4524544.88</td>\n",
              "      <td>4778755.26</td>\n",
              "      <td>4369733.23</td>\n",
              "      <td>4632439.12</td>\n",
              "      <td>4464307.47</td>\n",
              "      <td>4668642.02</td>\n",
              "      <td>4490368.23</td>\n",
              "      <td>...</td>\n",
              "      <td>8140639.49</td>\n",
              "      <td>8041248.80</td>\n",
              "      <td>8199032.67</td>\n",
              "      <td>8363386.07</td>\n",
              "      <td>7889819.50</td>\n",
              "      <td>8603943.85</td>\n",
              "      <td>8048398.25</td>\n",
              "      <td>8159737.49</td>\n",
              "      <td>8457455.71</td>\n",
              "      <td>7766983.20</td>\n",
              "      <td>8858845.57</td>\n",
              "      <td>8407076.44</td>\n",
              "      <td>9492938.92</td>\n",
              "      <td>8206195.92</td>\n",
              "      <td>9011612.58</td>\n",
              "      <td>9124967.84</td>\n",
              "      <td>8406732.72</td>\n",
              "      <td>8411360.02</td>\n",
              "      <td>8651081.66</td>\n",
              "      <td>8193425.99</td>\n",
              "      <td>8388269.45</td>\n",
              "      <td>8645315.78</td>\n",
              "      <td>9050329.13</td>\n",
              "      <td>9211262.51</td>\n",
              "      <td>9490545.02</td>\n",
              "      <td>8600886.20</td>\n",
              "      <td>8919190.86</td>\n",
              "      <td>8909111.89</td>\n",
              "      <td>8409386.09</td>\n",
              "      <td>8924348.41</td>\n",
              "      <td>8948605.66</td>\n",
              "      <td>8660753.05</td>\n",
              "      <td>8326416.32</td>\n",
              "      <td>8413784.42</td>\n",
              "      <td>7174312.31</td>\n",
              "      <td>7423678.64</td>\n",
              "      <td>8581195.13</td>\n",
              "      <td>9193593.76</td>\n",
              "      <td>7407388.24</td>\n",
              "      <td>929129659.72</td>\n",
              "    </tr>\n",
              "    <tr>\n",
              "      <th>1</th>\n",
              "      <td>12 Acre</td>\n",
              "      <td>10470.07</td>\n",
              "      <td>14001.71</td>\n",
              "      <td>86200.85</td>\n",
              "      <td>301323.68</td>\n",
              "      <td>769612.36</td>\n",
              "      <td>1731744.62</td>\n",
              "      <td>1743978.66</td>\n",
              "      <td>2057439.02</td>\n",
              "      <td>2057829.69</td>\n",
              "      <td>2226577.93</td>\n",
              "      <td>2112576.82</td>\n",
              "      <td>2029128.01</td>\n",
              "      <td>1886871.84</td>\n",
              "      <td>2084884.80</td>\n",
              "      <td>2230838.45</td>\n",
              "      <td>2122013.12</td>\n",
              "      <td>2196651.69</td>\n",
              "      <td>2152239.30</td>\n",
              "      <td>2086775.61</td>\n",
              "      <td>2476364.26</td>\n",
              "      <td>2396887.63</td>\n",
              "      <td>2610261.80</td>\n",
              "      <td>2174098.10</td>\n",
              "      <td>2051885.16</td>\n",
              "      <td>1714707.91</td>\n",
              "      <td>1341532.34</td>\n",
              "      <td>2288458.90</td>\n",
              "      <td>2462712.79</td>\n",
              "      <td>2254900.20</td>\n",
              "      <td>2381535.93</td>\n",
              "      <td>2079981.05</td>\n",
              "      <td>2564837.77</td>\n",
              "      <td>2588318.06</td>\n",
              "      <td>2538525.67</td>\n",
              "      <td>2319786.41</td>\n",
              "      <td>2279156.60</td>\n",
              "      <td>2454599.37</td>\n",
              "      <td>2578923.75</td>\n",
              "      <td>2625443.29</td>\n",
              "      <td>...</td>\n",
              "      <td>3161446.53</td>\n",
              "      <td>3355223.35</td>\n",
              "      <td>3562691.54</td>\n",
              "      <td>3375296.64</td>\n",
              "      <td>3341497.58</td>\n",
              "      <td>3358378.05</td>\n",
              "      <td>3145385.44</td>\n",
              "      <td>2638773.92</td>\n",
              "      <td>2968168.75</td>\n",
              "      <td>2769797.39</td>\n",
              "      <td>3057631.96</td>\n",
              "      <td>2874965.31</td>\n",
              "      <td>3175575.17</td>\n",
              "      <td>3060903.21</td>\n",
              "      <td>3253011.61</td>\n",
              "      <td>3040645.05</td>\n",
              "      <td>2926179.27</td>\n",
              "      <td>3126120.64</td>\n",
              "      <td>2473454.85</td>\n",
              "      <td>2277493.49</td>\n",
              "      <td>2594347.32</td>\n",
              "      <td>2234388.36</td>\n",
              "      <td>2473008.49</td>\n",
              "      <td>2979764.77</td>\n",
              "      <td>3070533.95</td>\n",
              "      <td>3249052.69</td>\n",
              "      <td>3567538.64</td>\n",
              "      <td>2981072.98</td>\n",
              "      <td>2998860.31</td>\n",
              "      <td>3293378.97</td>\n",
              "      <td>3174249.43</td>\n",
              "      <td>2959569.09</td>\n",
              "      <td>3261123.88</td>\n",
              "      <td>2981264.22</td>\n",
              "      <td>2859102.06</td>\n",
              "      <td>2472063.08</td>\n",
              "      <td>2383895.48</td>\n",
              "      <td>2199920.70</td>\n",
              "      <td>1163813.08</td>\n",
              "      <td>420668039.63</td>\n",
              "    </tr>\n",
              "  </tbody>\n",
              "</table>\n",
              "<p>2 rows × 158 columns</p>\n",
              "</div>"
            ],
            "text/plain": [
              "  Unidade da Federação  2007/Ago  2007/Set  ...   2020/Jun   2020/Jul        Total\n",
              "0          11 Rondônia   4209.37  16397.03  ... 9193593.76 7407388.24 929129659.72\n",
              "1              12 Acre  10470.07  14001.71  ... 2199920.70 1163813.08 420668039.63\n",
              "\n",
              "[2 rows x 158 columns]"
            ]
          },
          "metadata": {
            "tags": []
          },
          "execution_count": 6
        }
      ]
    },
    {
      "cell_type": "markdown",
      "metadata": {
        "id": "DuvB0Hkv3KtS"
      },
      "source": [
        "Transformando UF em index\n",
        "\n",
        "\n"
      ]
    },
    {
      "cell_type": "code",
      "metadata": {
        "id": "1o0sXpa46OB7"
      },
      "source": [
        "usaveis = usaveis.set_index(\"Unidade da Federação\")"
      ],
      "execution_count": 7,
      "outputs": []
    },
    {
      "cell_type": "markdown",
      "metadata": {
        "id": "duq2AJUJ49xR"
      },
      "source": [
        "### Df ordenado"
      ]
    },
    {
      "cell_type": "code",
      "metadata": {
        "colab": {
          "base_uri": "https://localhost:8080/",
          "height": 0
        },
        "id": "SlX7BcsQ0W6h",
        "outputId": "9e9896d3-249d-4132-fc04-b86ac188aa0f"
      },
      "source": [
        "ordenado_por_total = usaveis.sort_values(\"Total\", ascending=False)\n",
        "ordenado_por_total.head(2)"
      ],
      "execution_count": 8,
      "outputs": [
        {
          "output_type": "execute_result",
          "data": {
            "text/html": [
              "<div>\n",
              "<style scoped>\n",
              "    .dataframe tbody tr th:only-of-type {\n",
              "        vertical-align: middle;\n",
              "    }\n",
              "\n",
              "    .dataframe tbody tr th {\n",
              "        vertical-align: top;\n",
              "    }\n",
              "\n",
              "    .dataframe thead th {\n",
              "        text-align: right;\n",
              "    }\n",
              "</style>\n",
              "<table border=\"1\" class=\"dataframe\">\n",
              "  <thead>\n",
              "    <tr style=\"text-align: right;\">\n",
              "      <th></th>\n",
              "      <th>2007/Ago</th>\n",
              "      <th>2007/Set</th>\n",
              "      <th>2007/Out</th>\n",
              "      <th>2007/Nov</th>\n",
              "      <th>2007/Dez</th>\n",
              "      <th>2008/Jan</th>\n",
              "      <th>2008/Fev</th>\n",
              "      <th>2008/Mar</th>\n",
              "      <th>2008/Abr</th>\n",
              "      <th>2008/Mai</th>\n",
              "      <th>2008/Jun</th>\n",
              "      <th>2008/Jul</th>\n",
              "      <th>2008/Ago</th>\n",
              "      <th>2008/Set</th>\n",
              "      <th>2008/Out</th>\n",
              "      <th>2008/Nov</th>\n",
              "      <th>2008/Dez</th>\n",
              "      <th>2009/Jan</th>\n",
              "      <th>2009/Fev</th>\n",
              "      <th>2009/Mar</th>\n",
              "      <th>2009/Abr</th>\n",
              "      <th>2009/Mai</th>\n",
              "      <th>2009/Jun</th>\n",
              "      <th>2009/Jul</th>\n",
              "      <th>2009/Ago</th>\n",
              "      <th>2009/Set</th>\n",
              "      <th>2009/Out</th>\n",
              "      <th>2009/Nov</th>\n",
              "      <th>2009/Dez</th>\n",
              "      <th>2010/Jan</th>\n",
              "      <th>2010/Fev</th>\n",
              "      <th>2010/Mar</th>\n",
              "      <th>2010/Abr</th>\n",
              "      <th>2010/Mai</th>\n",
              "      <th>2010/Jun</th>\n",
              "      <th>2010/Jul</th>\n",
              "      <th>2010/Ago</th>\n",
              "      <th>2010/Set</th>\n",
              "      <th>2010/Out</th>\n",
              "      <th>2010/Nov</th>\n",
              "      <th>...</th>\n",
              "      <th>2017/Mai</th>\n",
              "      <th>2017/Jun</th>\n",
              "      <th>2017/Jul</th>\n",
              "      <th>2017/Ago</th>\n",
              "      <th>2017/Set</th>\n",
              "      <th>2017/Out</th>\n",
              "      <th>2017/Nov</th>\n",
              "      <th>2017/Dez</th>\n",
              "      <th>2018/Jan</th>\n",
              "      <th>2018/Fev</th>\n",
              "      <th>2018/Mar</th>\n",
              "      <th>2018/Abr</th>\n",
              "      <th>2018/Mai</th>\n",
              "      <th>2018/Jun</th>\n",
              "      <th>2018/Jul</th>\n",
              "      <th>2018/Ago</th>\n",
              "      <th>2018/Set</th>\n",
              "      <th>2018/Out</th>\n",
              "      <th>2018/Nov</th>\n",
              "      <th>2018/Dez</th>\n",
              "      <th>2019/Jan</th>\n",
              "      <th>2019/Fev</th>\n",
              "      <th>2019/Mar</th>\n",
              "      <th>2019/Abr</th>\n",
              "      <th>2019/Mai</th>\n",
              "      <th>2019/Jun</th>\n",
              "      <th>2019/Jul</th>\n",
              "      <th>2019/Ago</th>\n",
              "      <th>2019/Set</th>\n",
              "      <th>2019/Out</th>\n",
              "      <th>2019/Nov</th>\n",
              "      <th>2019/Dez</th>\n",
              "      <th>2020/Jan</th>\n",
              "      <th>2020/Fev</th>\n",
              "      <th>2020/Mar</th>\n",
              "      <th>2020/Abr</th>\n",
              "      <th>2020/Mai</th>\n",
              "      <th>2020/Jun</th>\n",
              "      <th>2020/Jul</th>\n",
              "      <th>Total</th>\n",
              "    </tr>\n",
              "    <tr>\n",
              "      <th>Unidade da Federação</th>\n",
              "      <th></th>\n",
              "      <th></th>\n",
              "      <th></th>\n",
              "      <th></th>\n",
              "      <th></th>\n",
              "      <th></th>\n",
              "      <th></th>\n",
              "      <th></th>\n",
              "      <th></th>\n",
              "      <th></th>\n",
              "      <th></th>\n",
              "      <th></th>\n",
              "      <th></th>\n",
              "      <th></th>\n",
              "      <th></th>\n",
              "      <th></th>\n",
              "      <th></th>\n",
              "      <th></th>\n",
              "      <th></th>\n",
              "      <th></th>\n",
              "      <th></th>\n",
              "      <th></th>\n",
              "      <th></th>\n",
              "      <th></th>\n",
              "      <th></th>\n",
              "      <th></th>\n",
              "      <th></th>\n",
              "      <th></th>\n",
              "      <th></th>\n",
              "      <th></th>\n",
              "      <th></th>\n",
              "      <th></th>\n",
              "      <th></th>\n",
              "      <th></th>\n",
              "      <th></th>\n",
              "      <th></th>\n",
              "      <th></th>\n",
              "      <th></th>\n",
              "      <th></th>\n",
              "      <th></th>\n",
              "      <th></th>\n",
              "      <th></th>\n",
              "      <th></th>\n",
              "      <th></th>\n",
              "      <th></th>\n",
              "      <th></th>\n",
              "      <th></th>\n",
              "      <th></th>\n",
              "      <th></th>\n",
              "      <th></th>\n",
              "      <th></th>\n",
              "      <th></th>\n",
              "      <th></th>\n",
              "      <th></th>\n",
              "      <th></th>\n",
              "      <th></th>\n",
              "      <th></th>\n",
              "      <th></th>\n",
              "      <th></th>\n",
              "      <th></th>\n",
              "      <th></th>\n",
              "      <th></th>\n",
              "      <th></th>\n",
              "      <th></th>\n",
              "      <th></th>\n",
              "      <th></th>\n",
              "      <th></th>\n",
              "      <th></th>\n",
              "      <th></th>\n",
              "      <th></th>\n",
              "      <th></th>\n",
              "      <th></th>\n",
              "      <th></th>\n",
              "      <th></th>\n",
              "      <th></th>\n",
              "      <th></th>\n",
              "      <th></th>\n",
              "      <th></th>\n",
              "      <th></th>\n",
              "      <th></th>\n",
              "      <th></th>\n",
              "    </tr>\n",
              "  </thead>\n",
              "  <tbody>\n",
              "    <tr>\n",
              "      <th>35 São Paulo</th>\n",
              "      <td>1665349.90</td>\n",
              "      <td>4434168.64</td>\n",
              "      <td>14577395.84</td>\n",
              "      <td>35032259.98</td>\n",
              "      <td>76668547.41</td>\n",
              "      <td>1023564534.21</td>\n",
              "      <td>172834914.73</td>\n",
              "      <td>170481849.56</td>\n",
              "      <td>170278285.95</td>\n",
              "      <td>172402180.59</td>\n",
              "      <td>175416595.83</td>\n",
              "      <td>179525002.10</td>\n",
              "      <td>179898070.22</td>\n",
              "      <td>180082203.71</td>\n",
              "      <td>191685220.08</td>\n",
              "      <td>190539738.80</td>\n",
              "      <td>177086380.69</td>\n",
              "      <td>192321557.36</td>\n",
              "      <td>178596376.79</td>\n",
              "      <td>216951591.57</td>\n",
              "      <td>215053018.45</td>\n",
              "      <td>212890248.16</td>\n",
              "      <td>212670900.80</td>\n",
              "      <td>214041237.42</td>\n",
              "      <td>215212536.08</td>\n",
              "      <td>214135444.45</td>\n",
              "      <td>216056582.61</td>\n",
              "      <td>208973892.04</td>\n",
              "      <td>192127099.10</td>\n",
              "      <td>213467885.76</td>\n",
              "      <td>195784795.23</td>\n",
              "      <td>239323932.16</td>\n",
              "      <td>221172991.21</td>\n",
              "      <td>231777549.43</td>\n",
              "      <td>223933798.66</td>\n",
              "      <td>224067914.11</td>\n",
              "      <td>248010130.51</td>\n",
              "      <td>224052980.08</td>\n",
              "      <td>238935452.74</td>\n",
              "      <td>225484059.46</td>\n",
              "      <td>...</td>\n",
              "      <td>292113404.78</td>\n",
              "      <td>274301073.14</td>\n",
              "      <td>283534617.42</td>\n",
              "      <td>300593738.96</td>\n",
              "      <td>267297243.95</td>\n",
              "      <td>287114784.48</td>\n",
              "      <td>267113249.04</td>\n",
              "      <td>259451685.90</td>\n",
              "      <td>279497570.89</td>\n",
              "      <td>254004628.07</td>\n",
              "      <td>285270559.62</td>\n",
              "      <td>286191965.06</td>\n",
              "      <td>291440947.02</td>\n",
              "      <td>278926018.36</td>\n",
              "      <td>285851919.68</td>\n",
              "      <td>295419311.15</td>\n",
              "      <td>277576166.24</td>\n",
              "      <td>301454867.05</td>\n",
              "      <td>278114302.44</td>\n",
              "      <td>266239800.80</td>\n",
              "      <td>291081406.59</td>\n",
              "      <td>267662508.70</td>\n",
              "      <td>285576312.72</td>\n",
              "      <td>292584828.35</td>\n",
              "      <td>308925598.24</td>\n",
              "      <td>281405146.78</td>\n",
              "      <td>306633987.91</td>\n",
              "      <td>302367276.77</td>\n",
              "      <td>293685713.15</td>\n",
              "      <td>303382527.10</td>\n",
              "      <td>282391773.21</td>\n",
              "      <td>272697695.04</td>\n",
              "      <td>301991167.67</td>\n",
              "      <td>271356784.04</td>\n",
              "      <td>276606288.92</td>\n",
              "      <td>251696362.66</td>\n",
              "      <td>302857660.98</td>\n",
              "      <td>299060851.62</td>\n",
              "      <td>282709570.31</td>\n",
              "      <td>38929353900.57</td>\n",
              "    </tr>\n",
              "    <tr>\n",
              "      <th>31 Minas Gerais</th>\n",
              "      <td>971394.37</td>\n",
              "      <td>2861781.50</td>\n",
              "      <td>10018011.35</td>\n",
              "      <td>21730281.63</td>\n",
              "      <td>43429517.54</td>\n",
              "      <td>205912743.65</td>\n",
              "      <td>70301089.50</td>\n",
              "      <td>79119005.51</td>\n",
              "      <td>79046322.41</td>\n",
              "      <td>79268070.12</td>\n",
              "      <td>79608652.53</td>\n",
              "      <td>82200224.47</td>\n",
              "      <td>80374117.08</td>\n",
              "      <td>82400146.79</td>\n",
              "      <td>88613476.60</td>\n",
              "      <td>84486996.11</td>\n",
              "      <td>88928630.30</td>\n",
              "      <td>99018155.84</td>\n",
              "      <td>83675119.83</td>\n",
              "      <td>100240651.84</td>\n",
              "      <td>91831325.37</td>\n",
              "      <td>97289703.07</td>\n",
              "      <td>95723396.53</td>\n",
              "      <td>100050008.70</td>\n",
              "      <td>98968064.76</td>\n",
              "      <td>98202119.08</td>\n",
              "      <td>96962394.27</td>\n",
              "      <td>94767639.13</td>\n",
              "      <td>92412770.73</td>\n",
              "      <td>95806556.42</td>\n",
              "      <td>90764890.28</td>\n",
              "      <td>107389850.03</td>\n",
              "      <td>100829767.38</td>\n",
              "      <td>105485567.80</td>\n",
              "      <td>99666115.96</td>\n",
              "      <td>103356995.64</td>\n",
              "      <td>107844259.69</td>\n",
              "      <td>104341138.19</td>\n",
              "      <td>100525403.88</td>\n",
              "      <td>101943625.50</td>\n",
              "      <td>...</td>\n",
              "      <td>153412119.69</td>\n",
              "      <td>144291438.09</td>\n",
              "      <td>147533496.74</td>\n",
              "      <td>156055553.43</td>\n",
              "      <td>142285103.84</td>\n",
              "      <td>148306094.14</td>\n",
              "      <td>142323944.76</td>\n",
              "      <td>138341191.84</td>\n",
              "      <td>146501618.07</td>\n",
              "      <td>130702126.27</td>\n",
              "      <td>151496245.19</td>\n",
              "      <td>150687602.95</td>\n",
              "      <td>153589259.44</td>\n",
              "      <td>150251751.37</td>\n",
              "      <td>156633990.16</td>\n",
              "      <td>160420043.49</td>\n",
              "      <td>145941007.54</td>\n",
              "      <td>157247579.70</td>\n",
              "      <td>148172783.99</td>\n",
              "      <td>145387240.73</td>\n",
              "      <td>153177305.19</td>\n",
              "      <td>142669153.77</td>\n",
              "      <td>151943630.56</td>\n",
              "      <td>157922598.68</td>\n",
              "      <td>163591461.79</td>\n",
              "      <td>154114822.71</td>\n",
              "      <td>166735650.41</td>\n",
              "      <td>161707825.05</td>\n",
              "      <td>157419731.93</td>\n",
              "      <td>166133803.32</td>\n",
              "      <td>152106660.17</td>\n",
              "      <td>152398599.06</td>\n",
              "      <td>158097903.98</td>\n",
              "      <td>141323175.61</td>\n",
              "      <td>147078556.29</td>\n",
              "      <td>126330649.86</td>\n",
              "      <td>136867275.75</td>\n",
              "      <td>135977571.87</td>\n",
              "      <td>120467187.34</td>\n",
              "      <td>19160106499.88</td>\n",
              "    </tr>\n",
              "  </tbody>\n",
              "</table>\n",
              "<p>2 rows × 157 columns</p>\n",
              "</div>"
            ],
            "text/plain": [
              "                       2007/Ago   2007/Set  ...     2020/Jul          Total\n",
              "Unidade da Federação                        ...                            \n",
              "35 São Paulo         1665349.90 4434168.64  ... 282709570.31 38929353900.57\n",
              "31 Minas Gerais       971394.37 2861781.50  ... 120467187.34 19160106499.88\n",
              "\n",
              "[2 rows x 157 columns]"
            ]
          },
          "metadata": {
            "tags": []
          },
          "execution_count": 8
        }
      ]
    },
    {
      "cell_type": "markdown",
      "metadata": {
        "id": "Btp17zLa4E6J"
      },
      "source": [
        "Selecionando o mes mais recente dos nosso dados"
      ]
    },
    {
      "cell_type": "code",
      "metadata": {
        "colab": {
          "base_uri": "https://localhost:8080/",
          "height": 0
        },
        "id": "BuhtQsd164VD",
        "outputId": "846c65ec-0baa-4e19-9724-b4026289e9aa"
      },
      "source": [
        "# selecionando o mês mais recente\n",
        "mes_mais_recente = ordenado_por_total.columns[-2]\n",
        "mes_mais_recente"
      ],
      "execution_count": 9,
      "outputs": [
        {
          "output_type": "execute_result",
          "data": {
            "application/vnd.google.colaboratory.intrinsic+json": {
              "type": "string"
            },
            "text/plain": [
              "'2020/Jul'"
            ]
          },
          "metadata": {
            "tags": []
          },
          "execution_count": 9
        }
      ]
    },
    {
      "cell_type": "markdown",
      "metadata": {
        "id": "eRY5u8aL5GeC"
      },
      "source": [
        "### Coluna com os gastos mais recentes de cada Estado"
      ]
    },
    {
      "cell_type": "code",
      "metadata": {
        "colab": {
          "base_uri": "https://localhost:8080/"
        },
        "id": "gxD6sHG5AefD",
        "outputId": "7ae7df2b-27d8-473c-9e16-ad1921bb8235"
      },
      "source": [
        "## retornando os gastos, por Estado, do ultimo mes\n",
        "gastos_mes_mais_recente = ordenado_por_total[mes_mais_recente]\n",
        "gastos_mes_mais_recente = gastos_mes_mais_recente.sort_values(ascending=False)\n",
        "gastos_mes_mais_recente.head()"
      ],
      "execution_count": 10,
      "outputs": [
        {
          "output_type": "execute_result",
          "data": {
            "text/plain": [
              "Unidade da Federação\n",
              "35 São Paulo           282709570.31\n",
              "31 Minas Gerais        120467187.34\n",
              "41 Paraná               80320852.69\n",
              "43 Rio Grande do Sul    78929703.81\n",
              "33 Rio de Janeiro       71540227.33\n",
              "Name: 2020/Jul, dtype: float64"
            ]
          },
          "metadata": {
            "tags": []
          },
          "execution_count": 10
        }
      ]
    },
    {
      "cell_type": "markdown",
      "metadata": {
        "id": "HSmxiM044mUx"
      },
      "source": [
        "### Plotar gráfico dos gastos mais recentes"
      ]
    },
    {
      "cell_type": "markdown",
      "metadata": {
        "id": "sFirdslU8XJS"
      },
      "source": [
        "###Valor Absoluto dos Gasto por Estado"
      ]
    },
    {
      "cell_type": "code",
      "metadata": {
        "colab": {
          "base_uri": "https://localhost:8080/",
          "height": 0
        },
        "id": "m_FtDwvB5UrZ",
        "outputId": "6ab88448-3a09-4927-a65a-f95899d910ff"
      },
      "source": [
        "ax = gastos_mes_mais_recente.plot(x = \"Unidade da Federação\", y = '2020/Jul', kind = \"bar\", figsize = (20,6))\n",
        "ax.yaxis.set_major_formatter(ticker.FuncFormatter(reformat_large_tick_values))\n",
        "plt.title(\"Total Gasto em Procedimentos Hospitalares por Local de Internação em Jul/2020\") \n",
        "plt.legend(title='Data de Atendimento', bbox_to_anchor=(1, 1.017), loc='upper left')\n",
        "plt.xlabel('')\n",
        "plt.ylabel(\"Valor Gasto por UF em Milhões\")\n",
        "plt.grid(True, alpha = 0.3)\n",
        "plt.show()"
      ],
      "execution_count": 11,
      "outputs": [
        {
          "output_type": "display_data",
          "data": {
            "image/png": "[encoded data removed]",
            "text/plain": [
              "<Figure size 1440x432 with 1 Axes>"
            ]
          },
          "metadata": {
            "tags": [],
            "needs_background": "light"
          }
        }
      ]
    },
    {
      "cell_type": "markdown",
      "metadata": {
        "id": "zOJQPU1v8qKZ"
      },
      "source": [
        "### Valor Relativo dos Gasto por Estado"
      ]
    },
    {
      "cell_type": "code",
      "metadata": {
        "id": "arYsZiL48uti"
      },
      "source": [
        "# calculo para saber a proporção\n",
        "proporcional_estado = (gastos_mes_mais_recente / gastos_mes_mais_recente.sum())*100"
      ],
      "execution_count": 12,
      "outputs": []
    },
    {
      "cell_type": "code",
      "metadata": {
        "colab": {
          "base_uri": "https://localhost:8080/",
          "height": 0
        },
        "id": "h7AZyQH79TwZ",
        "outputId": "2b96408a-0751-4ad8-cbfc-7e3c8e9171f9"
      },
      "source": [
        "ax = proporcional_estado.plot(x = \"Unidade da Federação\", y = '2020/Jul', kind = \"bar\", figsize = (20,6))\n",
        "ax.yaxis.set_major_formatter(ticker.PercentFormatter())\n",
        "plt.title(\"Total Gasto em Procedimentos Hospitalares por Local de Internação em Jul/2020\") \n",
        "plt.legend(title='Data de Atendimento', bbox_to_anchor=(1, 1.017), loc='upper left')\n",
        "plt.xlabel('')\n",
        "plt.ylabel(\"Valor Gasto por UF (%)\")\n",
        "plt.grid(True, alpha = 0.3)\n",
        "plt.show()"
      ],
      "execution_count": 13,
      "outputs": [
        {
          "output_type": "display_data",
          "data": {
            "image/png": "[encoded data removed]",
            "text/plain": [
              "<Figure size 1440x432 with 1 Axes>"
            ]
          },
          "metadata": {
            "tags": [],
            "needs_background": "light"
          }
        }
      ]
    },
    {
      "cell_type": "markdown",
      "metadata": {
        "id": "64Lny7rcB1Fw"
      },
      "source": [
        "## Fontes de extração dos dados\n",
        "\n",
        "1.   IBGE - XLS\n",
        "2.   Wikipedia (2 formas), a 2ª forma é o Desafio\n"
      ]
    },
    {
      "cell_type": "markdown",
      "metadata": {
        "id": "V5hnIh2_B_In"
      },
      "source": [
        "### IBGE - formato excel"
      ]
    },
    {
      "cell_type": "code",
      "metadata": {
        "colab": {
          "base_uri": "https://localhost:8080/",
          "height": 0
        },
        "id": "arTswUIJAJMa",
        "outputId": "dcfc79a9-d0dc-49b7-c5d1-5a8dd7b8cd61"
      },
      "source": [
        "ibge_estimativa = pd.read_excel(\"https://github.com/carollimaxp/data_science_alura/raw/main/Dados/POP2020_20201030.xls\", \n",
        "                    skiprows = 1,\n",
        "                    skipfooter = 7,\n",
        "                    thousands = '.'\n",
        "                    )\n",
        "\n",
        "ibge_estimativa = ibge_estimativa.drop(\"Unnamed: 1\", axis=1)\n",
        "ibge_estimativa.head()"
      ],
      "execution_count": 14,
      "outputs": [
        {
          "output_type": "execute_result",
          "data": {
            "text/html": [
              "<div>\n",
              "<style scoped>\n",
              "    .dataframe tbody tr th:only-of-type {\n",
              "        vertical-align: middle;\n",
              "    }\n",
              "\n",
              "    .dataframe tbody tr th {\n",
              "        vertical-align: top;\n",
              "    }\n",
              "\n",
              "    .dataframe thead th {\n",
              "        text-align: right;\n",
              "    }\n",
              "</style>\n",
              "<table border=\"1\" class=\"dataframe\">\n",
              "  <thead>\n",
              "    <tr style=\"text-align: right;\">\n",
              "      <th></th>\n",
              "      <th>BRASIL E UNIDADES DA FEDERAÇÃO</th>\n",
              "      <th>POPULAÇÃO ESTIMADA</th>\n",
              "    </tr>\n",
              "  </thead>\n",
              "  <tbody>\n",
              "    <tr>\n",
              "      <th>0</th>\n",
              "      <td>Brasil</td>\n",
              "      <td>211755692</td>\n",
              "    </tr>\n",
              "    <tr>\n",
              "      <th>1</th>\n",
              "      <td>Região Norte</td>\n",
              "      <td>18672591</td>\n",
              "    </tr>\n",
              "    <tr>\n",
              "      <th>2</th>\n",
              "      <td>Rondônia</td>\n",
              "      <td>1796460</td>\n",
              "    </tr>\n",
              "    <tr>\n",
              "      <th>3</th>\n",
              "      <td>Acre</td>\n",
              "      <td>894470</td>\n",
              "    </tr>\n",
              "    <tr>\n",
              "      <th>4</th>\n",
              "      <td>Amazonas</td>\n",
              "      <td>4207714</td>\n",
              "    </tr>\n",
              "  </tbody>\n",
              "</table>\n",
              "</div>"
            ],
            "text/plain": [
              "  BRASIL E UNIDADES DA FEDERAÇÃO POPULAÇÃO ESTIMADA\n",
              "0                         Brasil          211755692\n",
              "1                   Região Norte           18672591\n",
              "2                       Rondônia            1796460\n",
              "3                           Acre             894470\n",
              "4                       Amazonas            4207714"
            ]
          },
          "metadata": {
            "tags": []
          },
          "execution_count": 14
        }
      ]
    },
    {
      "cell_type": "markdown",
      "metadata": {
        "id": "H3bgbWGyCIJO"
      },
      "source": [
        "### [Wikipedia - URL](https://pt.wikipedia.org/wiki/Lista_de_unidades_federativas_do_Brasil_por_popula%C3%A7%C3%A3o)\n",
        "\n",
        "- Copiar a tabela (Copy & Paste)\n"
      ]
    },
    {
      "cell_type": "markdown",
      "metadata": {
        "id": "JskWJ2JwGLut"
      },
      "source": [
        "O read de vários formatos suportam o import de objetos, anteriormente estavamos importando através de links. Para a leitura de objetos, precisamos da classe StringIO. \n",
        "\n",
        "* Leitura de filepath (link) or buffer( usar class StringIO)\n",
        "* [URL da documentação](https://pandas.pydata.org/pandas-docs/version/0.14.0/io.html#io-read-csv-table)"
      ]
    },
    {
      "cell_type": "code",
      "metadata": {
        "id": "7w3OK2MkEtde"
      },
      "source": [
        "dados_populacao = StringIO(\"\"\"Posição\tUnidade federativa\tPopulação\t% da pop. total\tPaís comparável(habitantes)\n",
        "1\t São Paulo\t46 289 333\t21,9%\tFlag of Spain.svg Espanha (46 439 864)\n",
        "2\t Minas Gerais\t21 331 292\t10,1%\t Sri Lanka (20 675 000)\n",
        "3\t Rio de Janeiro\t17 366 189\t8,2%\t Países Baixos (16 922 900)\n",
        "4\tBahia Bahia\t14 930 634\t7,1%\t Chade (14 037 000)\n",
        "5\t Paraná\t11 516 840\t5,4%\t Bolívia (11 410 651)\n",
        "6\t Rio Grande do Sul\t11 422 973\t5,4%\t Bélgica (11 250 659)\n",
        "7\t Pernambuco\t9 616 621\t4,5%\t Bielorrússia (9 485 300)\n",
        "8\t Ceará\t9 187 103\t4,3%\t Emirados Árabes Unidos (9 157 000)\n",
        "9\tPará Pará\t8 690 745\t4,1%\t Áustria (8 602 112)\n",
        "10\t Santa Catarina\t7 279 638\t3,4%\t Sérvia (7 114 393)\n",
        "12\t Goiás\t7 142 070\t3,4%\t Paraguai (7 003 406)\n",
        "11\t Maranhão\t7 127 460\t3,4%\t Paraguai (7 003 406)\n",
        "13\t Amazonas\t4 228 381\t2,0%\t Líbano (4 168 000)\n",
        "14\t Espírito Santo\t4 064 052\t1,9%\t Líbano (4 168 000)\n",
        "15\t Paraíba\t4 039 277\t1,9%\t Líbano (4 168 000)\n",
        "16\t Rio Grande do Norte\t3 534 165\t1,7%\t Uruguai (3 415 866)\n",
        "17\t Mato Grosso\t3 526 220\t1,7%\t Uruguai (3 415 866)\n",
        "18\t Alagoas\t3 351 543\t1,6%\t Uruguai (3 415 866)\n",
        "19\t Piauí\t3 281 480\t1,6%\t Kuwait (3 268 431)\n",
        "20\t Distrito Federal\t3 055 149\t1,4%\t Lituânia (2 900 787)\n",
        "21\t Mato Grosso do Sul\t2 809 394\t1,3%\t Jamaica (2 717 991)\n",
        "22\t Sergipe\t2 318 822\t1,1%\t Namíbia (2 280 700)\n",
        "23\t Rondônia\t1 796 460\t0,8%\t Gabão (1 725 000)\n",
        "24\t Tocantins\t1 590 248\t0,7%\t Bahrein (1 359 800)\n",
        "25\t Acre\t894 470\t0,4%\t Fiji (859 178)\n",
        "26\t Amapá\t861 773\t0,4%\t Fiji (859 178)\n",
        "27\t Roraima\t631 181\t0,3%\t Luxemburgo (562 958)\"\"\")"
      ],
      "execution_count": 15,
      "outputs": []
    },
    {
      "cell_type": "code",
      "metadata": {
        "id": "pAmJGYuTFOIg"
      },
      "source": [
        "df_população = pd.read_csv(dados_populacao, sep = \"\\t\")"
      ],
      "execution_count": 16,
      "outputs": []
    },
    {
      "cell_type": "code",
      "metadata": {
        "colab": {
          "base_uri": "https://localhost:8080/",
          "height": 0
        },
        "id": "K6jxOjn8IsmV",
        "outputId": "c2f94ce4-2d51-42ce-d231-19f2b804f7b8"
      },
      "source": [
        "df_população.head(2)"
      ],
      "execution_count": 17,
      "outputs": [
        {
          "output_type": "execute_result",
          "data": {
            "text/html": [
              "<div>\n",
              "<style scoped>\n",
              "    .dataframe tbody tr th:only-of-type {\n",
              "        vertical-align: middle;\n",
              "    }\n",
              "\n",
              "    .dataframe tbody tr th {\n",
              "        vertical-align: top;\n",
              "    }\n",
              "\n",
              "    .dataframe thead th {\n",
              "        text-align: right;\n",
              "    }\n",
              "</style>\n",
              "<table border=\"1\" class=\"dataframe\">\n",
              "  <thead>\n",
              "    <tr style=\"text-align: right;\">\n",
              "      <th></th>\n",
              "      <th>Posição</th>\n",
              "      <th>Unidade federativa</th>\n",
              "      <th>População</th>\n",
              "      <th>% da pop. total</th>\n",
              "      <th>País comparável(habitantes)</th>\n",
              "    </tr>\n",
              "  </thead>\n",
              "  <tbody>\n",
              "    <tr>\n",
              "      <th>0</th>\n",
              "      <td>1</td>\n",
              "      <td>São Paulo</td>\n",
              "      <td>46 289 333</td>\n",
              "      <td>21,9%</td>\n",
              "      <td>Flag of Spain.svg Espanha (46 439 864)</td>\n",
              "    </tr>\n",
              "    <tr>\n",
              "      <th>1</th>\n",
              "      <td>2</td>\n",
              "      <td>Minas Gerais</td>\n",
              "      <td>21 331 292</td>\n",
              "      <td>10,1%</td>\n",
              "      <td>Sri Lanka (20 675 000)</td>\n",
              "    </tr>\n",
              "  </tbody>\n",
              "</table>\n",
              "</div>"
            ],
            "text/plain": [
              "   Posição  ...             País comparável(habitantes)\n",
              "0        1  ...  Flag of Spain.svg Espanha (46 439 864)\n",
              "1        2  ...                  Sri Lanka (20 675 000)\n",
              "\n",
              "[2 rows x 5 columns]"
            ]
          },
          "metadata": {
            "tags": []
          },
          "execution_count": 17
        }
      ]
    },
    {
      "cell_type": "markdown",
      "metadata": {
        "id": "xGOdP69lIXV1"
      },
      "source": [
        "## **Desafio 1** : Ler essa informação direto da Wikipedia (html)"
      ]
    },
    {
      "cell_type": "markdown",
      "metadata": {
        "id": "epjHZdyPQoKT"
      },
      "source": [
        "### Ler página da Wikipedia"
      ]
    },
    {
      "cell_type": "code",
      "metadata": {
        "id": "rMv_UmLFJbD3"
      },
      "source": [
        "dados_wikipedia = pd.read_html(\"https://pt.wikipedia.org/wiki/Lista_de_unidades_federativas_do_Brasil_por_popula%C3%A7%C3%A3o\",\n",
        "                               header = 0,\n",
        "                               match = \"Unidade federativa\"\n",
        "                               )"
      ],
      "execution_count": 18,
      "outputs": []
    },
    {
      "cell_type": "markdown",
      "metadata": {
        "id": "vm7Sn1R7QuXa"
      },
      "source": [
        "### Transformar em um DF"
      ]
    },
    {
      "cell_type": "code",
      "metadata": {
        "colab": {
          "base_uri": "https://localhost:8080/",
          "height": 0
        },
        "id": "qjOuzt-8N5IV",
        "outputId": "a786bf33-d2af-472a-c21e-beb41e1a9f02"
      },
      "source": [
        "wiki = dados_wikipedia[0]\n",
        "wiki.head(2)"
      ],
      "execution_count": 19,
      "outputs": [
        {
          "output_type": "execute_result",
          "data": {
            "text/html": [
              "<div>\n",
              "<style scoped>\n",
              "    .dataframe tbody tr th:only-of-type {\n",
              "        vertical-align: middle;\n",
              "    }\n",
              "\n",
              "    .dataframe tbody tr th {\n",
              "        vertical-align: top;\n",
              "    }\n",
              "\n",
              "    .dataframe thead th {\n",
              "        text-align: right;\n",
              "    }\n",
              "</style>\n",
              "<table border=\"1\" class=\"dataframe\">\n",
              "  <thead>\n",
              "    <tr style=\"text-align: right;\">\n",
              "      <th></th>\n",
              "      <th>Posição</th>\n",
              "      <th>Unidade federativa</th>\n",
              "      <th>População</th>\n",
              "      <th>% da pop. total</th>\n",
              "      <th>País comparável (habitantes)</th>\n",
              "    </tr>\n",
              "  </thead>\n",
              "  <tbody>\n",
              "    <tr>\n",
              "      <th>0</th>\n",
              "      <td>1</td>\n",
              "      <td>São Paulo</td>\n",
              "      <td>46 289 333</td>\n",
              "      <td>21,9%</td>\n",
              "      <td>Espanha (46 439 864)</td>\n",
              "    </tr>\n",
              "    <tr>\n",
              "      <th>1</th>\n",
              "      <td>2</td>\n",
              "      <td>Minas Gerais</td>\n",
              "      <td>21 292 666</td>\n",
              "      <td>10,1%</td>\n",
              "      <td>Sri Lanka (20 675 000)</td>\n",
              "    </tr>\n",
              "  </tbody>\n",
              "</table>\n",
              "</div>"
            ],
            "text/plain": [
              "   Posição Unidade federativa  ... % da pop. total País comparável (habitantes)\n",
              "0        1          São Paulo  ...           21,9%         Espanha (46 439 864)\n",
              "1        2       Minas Gerais  ...           10,1%       Sri Lanka (20 675 000)\n",
              "\n",
              "[2 rows x 5 columns]"
            ]
          },
          "metadata": {
            "tags": []
          },
          "execution_count": 19
        }
      ]
    },
    {
      "cell_type": "markdown",
      "metadata": {
        "id": "ngbZPTz7Qb5h"
      },
      "source": [
        "### Formatando os dados extraídos"
      ]
    },
    {
      "cell_type": "code",
      "metadata": {
        "id": "kSUZtx64Qa5S"
      },
      "source": [
        "# renomear colunas ou inserir as tabelas com os nomes que queremos\n",
        "wiki = wiki.rename(columns = {'Unidade federativa' : 'uf', 'População' : 'populacao', '% da pop. total' : '%pop_total'})\n",
        "\n",
        "# wiki['uf'] = wiki['Unidade federativa']\n",
        "# wiki['uf'] = wiki['População']"
      ],
      "execution_count": 20,
      "outputs": []
    },
    {
      "cell_type": "code",
      "metadata": {
        "id": "Sch2FrWPQx56"
      },
      "source": [
        "# drop colunas extras\n",
        "wiki = wiki.drop(['Posição', 'País comparável (habitantes)','%pop_total'], axis=1)"
      ],
      "execution_count": 21,
      "outputs": []
    },
    {
      "cell_type": "code",
      "metadata": {
        "id": "kMajt3EyRUaZ"
      },
      "source": [
        "# setar uf como index\n",
        "wiki = wiki.set_index('uf')"
      ],
      "execution_count": 22,
      "outputs": []
    },
    {
      "cell_type": "code",
      "metadata": {
        "id": "ki-enQv1Ro2r"
      },
      "source": [
        "# Remoção dos espaços para poder transformar em int a populacao\n",
        "wiki['populacao'] = wiki['populacao'].str.split(' ').str.join('')\n",
        "\n",
        "# Alternativa\n",
        "# wiki['populacao'].str.replace(\" \",\"\")"
      ],
      "execution_count": 23,
      "outputs": []
    },
    {
      "cell_type": "code",
      "metadata": {
        "id": "Lf2uyM0mVQpV"
      },
      "source": [
        "# Tranformando dtype: object para int64\n",
        "wiki['populacao'] = pd.to_numeric(wiki['populacao'])"
      ],
      "execution_count": 24,
      "outputs": []
    },
    {
      "cell_type": "code",
      "metadata": {
        "colab": {
          "base_uri": "https://localhost:8080/",
          "height": 0
        },
        "id": "HwPCk06sXEGK",
        "outputId": "1f914163-6fcd-4c84-e52b-288186b95211"
      },
      "source": [
        "wiki.head(2)"
      ],
      "execution_count": 25,
      "outputs": [
        {
          "output_type": "execute_result",
          "data": {
            "text/html": [
              "<div>\n",
              "<style scoped>\n",
              "    .dataframe tbody tr th:only-of-type {\n",
              "        vertical-align: middle;\n",
              "    }\n",
              "\n",
              "    .dataframe tbody tr th {\n",
              "        vertical-align: top;\n",
              "    }\n",
              "\n",
              "    .dataframe thead th {\n",
              "        text-align: right;\n",
              "    }\n",
              "</style>\n",
              "<table border=\"1\" class=\"dataframe\">\n",
              "  <thead>\n",
              "    <tr style=\"text-align: right;\">\n",
              "      <th></th>\n",
              "      <th>populacao</th>\n",
              "    </tr>\n",
              "    <tr>\n",
              "      <th>uf</th>\n",
              "      <th></th>\n",
              "    </tr>\n",
              "  </thead>\n",
              "  <tbody>\n",
              "    <tr>\n",
              "      <th>São Paulo</th>\n",
              "      <td>46289333</td>\n",
              "    </tr>\n",
              "    <tr>\n",
              "      <th>Minas Gerais</th>\n",
              "      <td>21292666</td>\n",
              "    </tr>\n",
              "  </tbody>\n",
              "</table>\n",
              "</div>"
            ],
            "text/plain": [
              "              populacao\n",
              "uf                     \n",
              "São Paulo      46289333\n",
              "Minas Gerais   21292666"
            ]
          },
          "metadata": {
            "tags": []
          },
          "execution_count": 25
        }
      ]
    },
    {
      "cell_type": "markdown",
      "metadata": {
        "id": "2JfAz6rrdYs2"
      },
      "source": [
        "### Juntar os gastos mais recentes dos estados com a total da população"
      ]
    },
    {
      "cell_type": "markdown",
      "metadata": {
        "id": "bP80VLhziyec"
      },
      "source": [
        "### Formatando os Indexs"
      ]
    },
    {
      "cell_type": "code",
      "metadata": {
        "id": "YjNv83avdlDw",
        "colab": {
          "base_uri": "https://localhost:8080/"
        },
        "outputId": "bd7f163e-9a2a-4f8c-86ba-b48e7a9f9770"
      },
      "source": [
        "gastos_mes_mais_recente.index = gastos_mes_mais_recente.index.str[3:]\n",
        "gastos_mes_mais_recente.head(2)"
      ],
      "execution_count": 26,
      "outputs": [
        {
          "output_type": "execute_result",
          "data": {
            "text/plain": [
              "Unidade da Federação\n",
              "São Paulo      282709570.31\n",
              "Minas Gerais   120467187.34\n",
              "Name: 2020/Jul, dtype: float64"
            ]
          },
          "metadata": {
            "tags": []
          },
          "execution_count": 26
        }
      ]
    },
    {
      "cell_type": "code",
      "metadata": {
        "id": "HDMNz4jejHNN",
        "colab": {
          "base_uri": "https://localhost:8080/",
          "height": 0
        },
        "outputId": "0499dc02-a627-4aa9-986f-66e94a4dd57a"
      },
      "source": [
        "wiki.index = wiki.index.str.strip()\n",
        "wiki.head(2)"
      ],
      "execution_count": 27,
      "outputs": [
        {
          "output_type": "execute_result",
          "data": {
            "text/html": [
              "<div>\n",
              "<style scoped>\n",
              "    .dataframe tbody tr th:only-of-type {\n",
              "        vertical-align: middle;\n",
              "    }\n",
              "\n",
              "    .dataframe tbody tr th {\n",
              "        vertical-align: top;\n",
              "    }\n",
              "\n",
              "    .dataframe thead th {\n",
              "        text-align: right;\n",
              "    }\n",
              "</style>\n",
              "<table border=\"1\" class=\"dataframe\">\n",
              "  <thead>\n",
              "    <tr style=\"text-align: right;\">\n",
              "      <th></th>\n",
              "      <th>populacao</th>\n",
              "    </tr>\n",
              "    <tr>\n",
              "      <th>uf</th>\n",
              "      <th></th>\n",
              "    </tr>\n",
              "  </thead>\n",
              "  <tbody>\n",
              "    <tr>\n",
              "      <th>São Paulo</th>\n",
              "      <td>46289333</td>\n",
              "    </tr>\n",
              "    <tr>\n",
              "      <th>Minas Gerais</th>\n",
              "      <td>21292666</td>\n",
              "    </tr>\n",
              "  </tbody>\n",
              "</table>\n",
              "</div>"
            ],
            "text/plain": [
              "              populacao\n",
              "uf                     \n",
              "São Paulo      46289333\n",
              "Minas Gerais   21292666"
            ]
          },
          "metadata": {
            "tags": []
          },
          "execution_count": 27
        }
      ]
    },
    {
      "cell_type": "markdown",
      "metadata": {
        "id": "Lg8T-63njR69"
      },
      "source": [
        "### Join entre as estruturas (df + serie)"
      ]
    },
    {
      "cell_type": "code",
      "metadata": {
        "colab": {
          "base_uri": "https://localhost:8080/",
          "height": 0
        },
        "id": "_396MKDyjL8v",
        "outputId": "5d11f888-0af9-4302-a0b3-12cfa76b5422"
      },
      "source": [
        "gasto_e_populacao_recente = wiki.join(gastos_mes_mais_recente)\n",
        "gasto_e_populacao_recente"
      ],
      "execution_count": 28,
      "outputs": [
        {
          "output_type": "execute_result",
          "data": {
            "text/html": [
              "<div>\n",
              "<style scoped>\n",
              "    .dataframe tbody tr th:only-of-type {\n",
              "        vertical-align: middle;\n",
              "    }\n",
              "\n",
              "    .dataframe tbody tr th {\n",
              "        vertical-align: top;\n",
              "    }\n",
              "\n",
              "    .dataframe thead th {\n",
              "        text-align: right;\n",
              "    }\n",
              "</style>\n",
              "<table border=\"1\" class=\"dataframe\">\n",
              "  <thead>\n",
              "    <tr style=\"text-align: right;\">\n",
              "      <th></th>\n",
              "      <th>populacao</th>\n",
              "      <th>2020/Jul</th>\n",
              "    </tr>\n",
              "    <tr>\n",
              "      <th>uf</th>\n",
              "      <th></th>\n",
              "      <th></th>\n",
              "    </tr>\n",
              "  </thead>\n",
              "  <tbody>\n",
              "    <tr>\n",
              "      <th>São Paulo</th>\n",
              "      <td>46289333</td>\n",
              "      <td>282709570.31</td>\n",
              "    </tr>\n",
              "    <tr>\n",
              "      <th>Minas Gerais</th>\n",
              "      <td>21292666</td>\n",
              "      <td>120467187.34</td>\n",
              "    </tr>\n",
              "    <tr>\n",
              "      <th>Rio de Janeiro</th>\n",
              "      <td>17366189</td>\n",
              "      <td>71540227.33</td>\n",
              "    </tr>\n",
              "    <tr>\n",
              "      <th>Bahia</th>\n",
              "      <td>14930634</td>\n",
              "      <td>58898100.40</td>\n",
              "    </tr>\n",
              "    <tr>\n",
              "      <th>Paraná</th>\n",
              "      <td>11516840</td>\n",
              "      <td>80320852.69</td>\n",
              "    </tr>\n",
              "    <tr>\n",
              "      <th>Rio Grande do Sul</th>\n",
              "      <td>11422973</td>\n",
              "      <td>78929703.81</td>\n",
              "    </tr>\n",
              "    <tr>\n",
              "      <th>Pernambuco</th>\n",
              "      <td>9616621</td>\n",
              "      <td>62325444.34</td>\n",
              "    </tr>\n",
              "    <tr>\n",
              "      <th>Ceará</th>\n",
              "      <td>9187103</td>\n",
              "      <td>30809221.22</td>\n",
              "    </tr>\n",
              "    <tr>\n",
              "      <th>Pará</th>\n",
              "      <td>8690745</td>\n",
              "      <td>27618727.51</td>\n",
              "    </tr>\n",
              "    <tr>\n",
              "      <th>Santa Catarina</th>\n",
              "      <td>7252502</td>\n",
              "      <td>51764534.76</td>\n",
              "    </tr>\n",
              "    <tr>\n",
              "      <th>Maranhão</th>\n",
              "      <td>7114598</td>\n",
              "      <td>24374205.15</td>\n",
              "    </tr>\n",
              "    <tr>\n",
              "      <th>Goiás</th>\n",
              "      <td>7113540</td>\n",
              "      <td>33499284.38</td>\n",
              "    </tr>\n",
              "    <tr>\n",
              "      <th>Amazonas</th>\n",
              "      <td>4207714</td>\n",
              "      <td>13358514.02</td>\n",
              "    </tr>\n",
              "    <tr>\n",
              "      <th>Espírito Santo</th>\n",
              "      <td>4064052</td>\n",
              "      <td>27460475.47</td>\n",
              "    </tr>\n",
              "    <tr>\n",
              "      <th>Paraíba</th>\n",
              "      <td>4039277</td>\n",
              "      <td>15491469.06</td>\n",
              "    </tr>\n",
              "    <tr>\n",
              "      <th>Rio Grande do Norte</th>\n",
              "      <td>3534165</td>\n",
              "      <td>19593057.45</td>\n",
              "    </tr>\n",
              "    <tr>\n",
              "      <th>Mato Grosso</th>\n",
              "      <td>3526220</td>\n",
              "      <td>13083151.70</td>\n",
              "    </tr>\n",
              "    <tr>\n",
              "      <th>Alagoas</th>\n",
              "      <td>3351543</td>\n",
              "      <td>13087850.40</td>\n",
              "    </tr>\n",
              "    <tr>\n",
              "      <th>Piauí</th>\n",
              "      <td>3281480</td>\n",
              "      <td>18019214.49</td>\n",
              "    </tr>\n",
              "    <tr>\n",
              "      <th>Distrito Federal</th>\n",
              "      <td>3055149</td>\n",
              "      <td>22233542.26</td>\n",
              "    </tr>\n",
              "    <tr>\n",
              "      <th>Mato Grosso do Sul</th>\n",
              "      <td>2809394</td>\n",
              "      <td>12508717.35</td>\n",
              "    </tr>\n",
              "    <tr>\n",
              "      <th>Sergipe</th>\n",
              "      <td>2318822</td>\n",
              "      <td>3312766.32</td>\n",
              "    </tr>\n",
              "    <tr>\n",
              "      <th>Rondônia</th>\n",
              "      <td>1796460</td>\n",
              "      <td>7407388.24</td>\n",
              "    </tr>\n",
              "    <tr>\n",
              "      <th>Tocantins</th>\n",
              "      <td>1590248</td>\n",
              "      <td>4489665.87</td>\n",
              "    </tr>\n",
              "    <tr>\n",
              "      <th>Acre</th>\n",
              "      <td>894470</td>\n",
              "      <td>1163813.08</td>\n",
              "    </tr>\n",
              "    <tr>\n",
              "      <th>Amapá</th>\n",
              "      <td>861773</td>\n",
              "      <td>2155083.37</td>\n",
              "    </tr>\n",
              "    <tr>\n",
              "      <th>Roraima</th>\n",
              "      <td>631181</td>\n",
              "      <td>2739498.41</td>\n",
              "    </tr>\n",
              "  </tbody>\n",
              "</table>\n",
              "</div>"
            ],
            "text/plain": [
              "                     populacao     2020/Jul\n",
              "uf                                         \n",
              "São Paulo             46289333 282709570.31\n",
              "Minas Gerais          21292666 120467187.34\n",
              "Rio de Janeiro        17366189  71540227.33\n",
              "Bahia                 14930634  58898100.40\n",
              "Paraná                11516840  80320852.69\n",
              "Rio Grande do Sul     11422973  78929703.81\n",
              "Pernambuco             9616621  62325444.34\n",
              "Ceará                  9187103  30809221.22\n",
              "Pará                   8690745  27618727.51\n",
              "Santa Catarina         7252502  51764534.76\n",
              "Maranhão               7114598  24374205.15\n",
              "Goiás                  7113540  33499284.38\n",
              "Amazonas               4207714  13358514.02\n",
              "Espírito Santo         4064052  27460475.47\n",
              "Paraíba                4039277  15491469.06\n",
              "Rio Grande do Norte    3534165  19593057.45\n",
              "Mato Grosso            3526220  13083151.70\n",
              "Alagoas                3351543  13087850.40\n",
              "Piauí                  3281480  18019214.49\n",
              "Distrito Federal       3055149  22233542.26\n",
              "Mato Grosso do Sul     2809394  12508717.35\n",
              "Sergipe                2318822   3312766.32\n",
              "Rondônia               1796460   7407388.24\n",
              "Tocantins              1590248   4489665.87\n",
              "Acre                    894470   1163813.08\n",
              "Amapá                   861773   2155083.37\n",
              "Roraima                 631181   2739498.41"
            ]
          },
          "metadata": {
            "tags": []
          },
          "execution_count": 28
        }
      ]
    },
    {
      "cell_type": "markdown",
      "metadata": {
        "id": "csF5PLg2jk4z"
      },
      "source": [
        "## **Desafio 2** : Explorar mais métodos de String do python e str do pandas"
      ]
    },
    {
      "cell_type": "markdown",
      "metadata": {
        "id": "ePleP5tNlB_V"
      },
      "source": [
        "\n",
        "\n",
        "1.   Pandas\n",
        "2.   Python\n",
        "\n"
      ]
    },
    {
      "cell_type": "markdown",
      "metadata": {
        "id": "viiM3Y-AqwbV"
      },
      "source": [
        "### [String handling](https://pandas.pydata.org/pandas-docs/stable/reference/series.html#string-handling)"
      ]
    },
    {
      "cell_type": "code",
      "metadata": {
        "colab": {
          "base_uri": "https://localhost:8080/"
        },
        "id": "JbBjTfDImIIL",
        "outputId": "81fca476-72a7-454f-e341-ff0321ab404a"
      },
      "source": [
        "# lower (letras minusculas)\n",
        "# upper (letras maiusculas)\n",
        "# title (primeiro caracter de cada palavra, maiuscula)\n",
        "# capitalize (somente primeira letra maiuscula dentre todas as palavras)\n",
        "# swapcase (troca de maiusculo para minusculo, vice-versa)\n",
        "wiki.index.str.capitalize()"
      ],
      "execution_count": 29,
      "outputs": [
        {
          "output_type": "execute_result",
          "data": {
            "text/plain": [
              "Index(['São paulo', 'Minas gerais', 'Rio de janeiro', 'Bahia', 'Paraná',\n",
              "       'Rio grande do sul', 'Pernambuco', 'Ceará', 'Pará', 'Santa catarina',\n",
              "       'Maranhão', 'Goiás', 'Amazonas', 'Espírito santo', 'Paraíba',\n",
              "       'Rio grande do norte', 'Mato grosso', 'Alagoas', 'Piauí',\n",
              "       'Distrito federal', 'Mato grosso do sul', 'Sergipe', 'Rondônia',\n",
              "       'Tocantins', 'Acre', 'Amapá', 'Roraima'],\n",
              "      dtype='object', name='uf')"
            ]
          },
          "metadata": {
            "tags": []
          },
          "execution_count": 29
        }
      ]
    },
    {
      "cell_type": "code",
      "metadata": {
        "colab": {
          "base_uri": "https://localhost:8080/"
        },
        "id": "hUGwZ_5pmdEM",
        "outputId": "07803c6d-b36c-4835-e0af-2ee885e856a5"
      },
      "source": [
        "wiki.index.str.contains('Pa', regex=False)"
      ],
      "execution_count": 30,
      "outputs": [
        {
          "output_type": "execute_result",
          "data": {
            "text/plain": [
              "array([ True, False, False, False,  True, False, False, False,  True,\n",
              "       False, False, False, False, False,  True, False, False, False,\n",
              "       False, False, False, False, False, False, False, False, False])"
            ]
          },
          "metadata": {
            "tags": []
          },
          "execution_count": 30
        }
      ]
    },
    {
      "cell_type": "code",
      "metadata": {
        "colab": {
          "base_uri": "https://localhost:8080/"
        },
        "id": "QsAWp2DYoTGK",
        "outputId": "648e2a06-62ab-4d2f-b565-942ba316b1a2"
      },
      "source": [
        "wiki.index.str.count('a')"
      ],
      "execution_count": 31,
      "outputs": [
        {
          "output_type": "execute_result",
          "data": {
            "text/plain": [
              "Int64Index([1, 2, 1, 2, 2, 1, 1, 1, 1, 5, 2, 0, 2, 1, 3, 1, 1, 2, 1, 1, 1, 0,\n",
              "            1, 1, 0, 1, 2],\n",
              "           dtype='int64', name='uf')"
            ]
          },
          "metadata": {
            "tags": []
          },
          "execution_count": 31
        }
      ]
    },
    {
      "cell_type": "code",
      "metadata": {
        "colab": {
          "base_uri": "https://localhost:8080/"
        },
        "id": "LdeXepeZooCj",
        "outputId": "87f89262-9029-4f3d-8d9b-e57c287a0470"
      },
      "source": [
        "#primeira letra do index\n",
        "wiki.index.str.get(0)"
      ],
      "execution_count": 32,
      "outputs": [
        {
          "output_type": "execute_result",
          "data": {
            "text/plain": [
              "Index(['S', 'M', 'R', 'B', 'P', 'R', 'P', 'C', 'P', 'S', 'M', 'G', 'A', 'E',\n",
              "       'P', 'R', 'M', 'A', 'P', 'D', 'M', 'S', 'R', 'T', 'A', 'A', 'R'],\n",
              "      dtype='object', name='uf')"
            ]
          },
          "metadata": {
            "tags": []
          },
          "execution_count": 32
        }
      ]
    },
    {
      "cell_type": "code",
      "metadata": {
        "colab": {
          "base_uri": "https://localhost:8080/"
        },
        "id": "NcTIZTAyo6q7",
        "outputId": "e491fff1-d8fe-41eb-d379-99515e136459"
      },
      "source": [
        "wiki['populacao'].get(0)"
      ],
      "execution_count": 33,
      "outputs": [
        {
          "output_type": "execute_result",
          "data": {
            "text/plain": [
              "46289333"
            ]
          },
          "metadata": {
            "tags": []
          },
          "execution_count": 33
        }
      ]
    },
    {
      "cell_type": "code",
      "metadata": {
        "colab": {
          "base_uri": "https://localhost:8080/"
        },
        "id": "vx-ryQ5hpOdK",
        "outputId": "fc9480b7-dafb-4b5e-e117-68c40fcd90e2"
      },
      "source": [
        "usaveis.index.str.slice(start=3)\n",
        "#usaveis.index.str[3:]"
      ],
      "execution_count": 34,
      "outputs": [
        {
          "output_type": "execute_result",
          "data": {
            "text/plain": [
              "Index(['Rondônia', 'Acre', 'Amazonas', 'Roraima', 'Pará', 'Amapá', 'Tocantins',\n",
              "       'Maranhão', 'Piauí', 'Ceará', 'Rio Grande do Norte', 'Paraíba',\n",
              "       'Pernambuco', 'Alagoas', 'Sergipe', 'Bahia', 'Minas Gerais',\n",
              "       'Espírito Santo', 'Rio de Janeiro', 'São Paulo', 'Paraná',\n",
              "       'Santa Catarina', 'Rio Grande do Sul', 'Mato Grosso do Sul',\n",
              "       'Mato Grosso', 'Goiás', 'Distrito Federal'],\n",
              "      dtype='object', name='Unidade da Federação')"
            ]
          },
          "metadata": {
            "tags": []
          },
          "execution_count": 34
        }
      ]
    },
    {
      "cell_type": "markdown",
      "metadata": {
        "id": "w4mosbMkqOXr"
      },
      "source": [
        "Tem as funções de verificações do str. como isalnum (alphanumerico), isalpha (letras), isdigit (numero), isspace, ..."
      ]
    },
    {
      "cell_type": "markdown",
      "metadata": {
        "id": "1II5uIE6rgv7"
      },
      "source": [
        "## **Desafio 3** : Desenvolver uma função para a limpeza e tratamento dos dados, retornando duas tabelas \"população\" e \"unida\". "
      ]
    },
    {
      "cell_type": "code",
      "metadata": {
        "id": "Xjz6REIwrOqi"
      },
      "source": [
        "def limpeza_join (wiki_populacao: pd.DataFrame, gastos_mes_mais_recente: pd.Series):\n",
        "    #verificar se os numeros tem espaços\n",
        "    #transformar em números\n",
        "    #verificar se os index estão corretos\n",
        "    #formatar index\n",
        "    #retorna tabela\n",
        "\n",
        "    wiki_populacao = wiki_populacao.dropna(axis=1)\n",
        "    wiki_populacao['uf'] = wiki_populacao['Unidade federativa'].str.strip()\n",
        "\n",
        "    wiki_populacao['populacao'] = wiki_populacao['População'].str.replace(\" \", \"\")\n",
        "    wiki_populacao['populacao'] = wiki_populacao['populacao'].astype(int)\n",
        "\n",
        "    wiki_populacao = wiki_populacao[['uf', 'populacao']]\n",
        "    wiki_populacao.set_index('uf', inplace=True)\n",
        "\n",
        "    return wiki_populacao.join(gastos_mes_mais_recente)\n"
      ],
      "execution_count": 35,
      "outputs": []
    },
    {
      "cell_type": "code",
      "metadata": {
        "colab": {
          "base_uri": "https://localhost:8080/",
          "height": 0
        },
        "id": "8C4CSRgixEQo",
        "outputId": "1d04cdce-318a-47e6-ba17-b9b03b8d58ff"
      },
      "source": [
        "gasto_e_populacao_recente = limpeza_join (dados_wikipedia[0], gastos_mes_mais_recente)\n",
        "gasto_e_populacao_recente.head()"
      ],
      "execution_count": 36,
      "outputs": [
        {
          "output_type": "execute_result",
          "data": {
            "text/html": [
              "<div>\n",
              "<style scoped>\n",
              "    .dataframe tbody tr th:only-of-type {\n",
              "        vertical-align: middle;\n",
              "    }\n",
              "\n",
              "    .dataframe tbody tr th {\n",
              "        vertical-align: top;\n",
              "    }\n",
              "\n",
              "    .dataframe thead th {\n",
              "        text-align: right;\n",
              "    }\n",
              "</style>\n",
              "<table border=\"1\" class=\"dataframe\">\n",
              "  <thead>\n",
              "    <tr style=\"text-align: right;\">\n",
              "      <th></th>\n",
              "      <th>populacao</th>\n",
              "      <th>2020/Jul</th>\n",
              "    </tr>\n",
              "    <tr>\n",
              "      <th>uf</th>\n",
              "      <th></th>\n",
              "      <th></th>\n",
              "    </tr>\n",
              "  </thead>\n",
              "  <tbody>\n",
              "    <tr>\n",
              "      <th>São Paulo</th>\n",
              "      <td>46289333</td>\n",
              "      <td>282709570.31</td>\n",
              "    </tr>\n",
              "    <tr>\n",
              "      <th>Minas Gerais</th>\n",
              "      <td>21292666</td>\n",
              "      <td>120467187.34</td>\n",
              "    </tr>\n",
              "    <tr>\n",
              "      <th>Rio de Janeiro</th>\n",
              "      <td>17366189</td>\n",
              "      <td>71540227.33</td>\n",
              "    </tr>\n",
              "    <tr>\n",
              "      <th>Bahia</th>\n",
              "      <td>14930634</td>\n",
              "      <td>58898100.40</td>\n",
              "    </tr>\n",
              "    <tr>\n",
              "      <th>Paraná</th>\n",
              "      <td>11516840</td>\n",
              "      <td>80320852.69</td>\n",
              "    </tr>\n",
              "  </tbody>\n",
              "</table>\n",
              "</div>"
            ],
            "text/plain": [
              "                populacao     2020/Jul\n",
              "uf                                    \n",
              "São Paulo        46289333 282709570.31\n",
              "Minas Gerais     21292666 120467187.34\n",
              "Rio de Janeiro   17366189  71540227.33\n",
              "Bahia            14930634  58898100.40\n",
              "Paraná           11516840  80320852.69"
            ]
          },
          "metadata": {
            "tags": []
          },
          "execution_count": 36
        }
      ]
    },
    {
      "cell_type": "markdown",
      "metadata": {
        "id": "hyUBwWOpJi3v"
      },
      "source": [
        "# Aula 2"
      ]
    },
    {
      "cell_type": "markdown",
      "metadata": {
        "id": "6XmWskSLSH8f"
      },
      "source": [
        "## Explorando os dados + Lib Seaborn"
      ]
    },
    {
      "cell_type": "markdown",
      "metadata": {
        "id": "Np45h6j7H_AS"
      },
      "source": [
        ""
      ]
    },
    {
      "cell_type": "code",
      "metadata": {
        "id": "Vpa5-usuJiTn",
        "colab": {
          "base_uri": "https://localhost:8080/",
          "height": 0
        },
        "outputId": "7fad484e-dff5-4601-fba8-5f3c2a560683"
      },
      "source": [
        "gasto_e_populacao_recente.head(1)"
      ],
      "execution_count": 37,
      "outputs": [
        {
          "output_type": "execute_result",
          "data": {
            "text/html": [
              "<div>\n",
              "<style scoped>\n",
              "    .dataframe tbody tr th:only-of-type {\n",
              "        vertical-align: middle;\n",
              "    }\n",
              "\n",
              "    .dataframe tbody tr th {\n",
              "        vertical-align: top;\n",
              "    }\n",
              "\n",
              "    .dataframe thead th {\n",
              "        text-align: right;\n",
              "    }\n",
              "</style>\n",
              "<table border=\"1\" class=\"dataframe\">\n",
              "  <thead>\n",
              "    <tr style=\"text-align: right;\">\n",
              "      <th></th>\n",
              "      <th>populacao</th>\n",
              "      <th>2020/Jul</th>\n",
              "    </tr>\n",
              "    <tr>\n",
              "      <th>uf</th>\n",
              "      <th></th>\n",
              "      <th></th>\n",
              "    </tr>\n",
              "  </thead>\n",
              "  <tbody>\n",
              "    <tr>\n",
              "      <th>São Paulo</th>\n",
              "      <td>46289333</td>\n",
              "      <td>282709570.31</td>\n",
              "    </tr>\n",
              "  </tbody>\n",
              "</table>\n",
              "</div>"
            ],
            "text/plain": [
              "           populacao     2020/Jul\n",
              "uf                               \n",
              "São Paulo   46289333 282709570.31"
            ]
          },
          "metadata": {
            "tags": []
          },
          "execution_count": 37
        }
      ]
    },
    {
      "cell_type": "code",
      "metadata": {
        "colab": {
          "base_uri": "https://localhost:8080/",
          "height": 0
        },
        "id": "vqfWVq7Q9ovc",
        "outputId": "63485213-ab3b-4ade-f79d-b6ce4995b488"
      },
      "source": [
        "## Não usar 2 eixos, com duas métricas que não tem relação - dinheiro e pessoas\n",
        "gasto_e_populacao_recente[\"gastos\"] = gasto_e_populacao_recente[\"2020/Jul\"] * 1000000\n",
        "gasto_e_populacao_recente.plot()"
      ],
      "execution_count": 38,
      "outputs": [
        {
          "output_type": "execute_result",
          "data": {
            "text/plain": [
              "<matplotlib.axes._subplots.AxesSubplot at 0x7f5002c9b080>"
            ]
          },
          "metadata": {
            "tags": []
          },
          "execution_count": 38
        },
        {
          "output_type": "display_data",
          "data": {
            "image/png": "[encoded data removed]",
            "text/plain": [
              "<Figure size 432x288 with 1 Axes>"
            ]
          },
          "metadata": {
            "tags": [],
            "needs_background": "light"
          }
        }
      ]
    },
    {
      "cell_type": "code",
      "metadata": {
        "id": "dEdpMWDT_xeC"
      },
      "source": [
        "#gasto_e_populacao_recente = gasto_e_populacao_recente.drop(\"gastos\",axis=1)"
      ],
      "execution_count": 39,
      "outputs": []
    },
    {
      "cell_type": "markdown",
      "metadata": {
        "id": "7eDCh_oaE9EQ"
      },
      "source": [
        "### Cálculo e gráfico do gasto per capita"
      ]
    },
    {
      "cell_type": "code",
      "metadata": {
        "id": "y3fUs2pHE7Pf"
      },
      "source": [
        "gasto_e_populacao_recente[\"gastos_per_capita\"] = gasto_e_populacao_recente[\"2020/Jul\"] / gasto_e_populacao_recente[\"populacao\"]"
      ],
      "execution_count": 40,
      "outputs": []
    },
    {
      "cell_type": "code",
      "metadata": {
        "colab": {
          "base_uri": "https://localhost:8080/",
          "height": 0
        },
        "id": "Orbg0lBH_dyz",
        "outputId": "43e76fa0-207e-4ce0-e83d-6eae732ebf06"
      },
      "source": [
        "#gasto_e_populacao_recente.sort_values(\"gastos_per_capita\", ascending=False)[[\"gastos_per_capita\"]].plot(kind = 'bar', figsize = (15,6))\n",
        "gasto_e_populacao_recente[[\"gastos_per_capita\"]].plot(kind = 'bar', figsize = (15,6))"
      ],
      "execution_count": 41,
      "outputs": [
        {
          "output_type": "execute_result",
          "data": {
            "text/plain": [
              "<matplotlib.axes._subplots.AxesSubplot at 0x7f50013cdb00>"
            ]
          },
          "metadata": {
            "tags": []
          },
          "execution_count": 41
        },
        {
          "output_type": "display_data",
          "data": {
            "image/png": "[encoded data removed]",
            "text/plain": [
              "<Figure size 1080x432 with 1 Axes>"
            ]
          },
          "metadata": {
            "tags": [],
            "needs_background": "light"
          }
        }
      ]
    },
    {
      "cell_type": "markdown",
      "metadata": {
        "id": "7iovhbSWJTO2"
      },
      "source": [
        "### **Lib seaborn** : Plotanto gráficos"
      ]
    },
    {
      "cell_type": "code",
      "metadata": {
        "colab": {
          "base_uri": "https://localhost:8080/",
          "height": 0
        },
        "id": "VCg9HkdFJS_G",
        "outputId": "fad3d609-08b4-4c12-983e-aba01b2f1761"
      },
      "source": [
        "#import seaborn as sns\n",
        "sns.scatterplot(data= gasto_e_populacao_recente/1000000, x=\"populacao\", y=\"gastos\")"
      ],
      "execution_count": 42,
      "outputs": [
        {
          "output_type": "execute_result",
          "data": {
            "text/plain": [
              "<matplotlib.axes._subplots.AxesSubplot at 0x7f5000c62978>"
            ]
          },
          "metadata": {
            "tags": []
          },
          "execution_count": 42
        },
        {
          "output_type": "display_data",
          "data": {
            "image/png": "[encoded data removed]",
            "text/plain": [
              "<Figure size 432x288 with 1 Axes>"
            ]
          },
          "metadata": {
            "tags": [],
            "needs_background": "light"
          }
        }
      ]
    },
    {
      "cell_type": "code",
      "metadata": {
        "colab": {
          "base_uri": "https://localhost:8080/",
          "height": 0
        },
        "id": "-dd2E6KDdzPQ",
        "outputId": "7244c9da-bd0e-47a0-9619-f9f6d2f858d0"
      },
      "source": [
        "#import seaborn as sns\n",
        "plt.figure(figsize=(7,7))\n",
        "sns.scatterplot(data= gasto_e_populacao_recente/1000000, x=\"populacao\", y=\"gastos\")"
      ],
      "execution_count": 43,
      "outputs": [
        {
          "output_type": "execute_result",
          "data": {
            "text/plain": [
              "<matplotlib.axes._subplots.AxesSubplot at 0x7f5000c1f748>"
            ]
          },
          "metadata": {
            "tags": []
          },
          "execution_count": 43
        },
        {
          "output_type": "display_data",
          "data": {
            "image/png": "[encoded data removed]",
            "text/plain": [
              "<Figure size 504x504 with 1 Axes>"
            ]
          },
          "metadata": {
            "tags": [],
            "needs_background": "light"
          }
        }
      ]
    },
    {
      "cell_type": "code",
      "metadata": {
        "colab": {
          "base_uri": "https://localhost:8080/",
          "height": 0
        },
        "id": "hExHXYb9eRcP",
        "outputId": "2edadeeb-7fe9-48c3-b01f-31ca17a356df"
      },
      "source": [
        "#import seaborn as sns\n",
        "plt.figure(figsize=(7,7))\n",
        "sns.scatterplot(data= gasto_e_populacao_recente, x=\"populacao\", y=\"gastos_per_capita\")"
      ],
      "execution_count": 44,
      "outputs": [
        {
          "output_type": "execute_result",
          "data": {
            "text/plain": [
              "<matplotlib.axes._subplots.AxesSubplot at 0x7f5000b6ae80>"
            ]
          },
          "metadata": {
            "tags": []
          },
          "execution_count": 44
        },
        {
          "output_type": "display_data",
          "data": {
            "image/png": "[encoded data removed]",
            "text/plain": [
              "<Figure size 504x504 with 1 Axes>"
            ]
          },
          "metadata": {
            "tags": [],
            "needs_background": "light"
          }
        }
      ]
    },
    {
      "cell_type": "markdown",
      "metadata": {
        "id": "m4NsVXapEms5"
      },
      "source": [
        "## **Desafio 1**: Ordenar gastos per capita por habitante. Ordenar por habitantes."
      ]
    },
    {
      "cell_type": "markdown",
      "metadata": {
        "id": "F82v9Y1jHOv_"
      },
      "source": [
        "Ordenação por gasto per capita"
      ]
    },
    {
      "cell_type": "code",
      "metadata": {
        "colab": {
          "base_uri": "https://localhost:8080/",
          "height": 0
        },
        "id": "kjKD2J6lE24e",
        "outputId": "da9b201b-0e45-41d6-ec67-d59929e841bb"
      },
      "source": [
        "ax = gasto_e_populacao_recente.sort_values([\"gastos_per_capita\"], ascending=False)[\"gastos_per_capita\"].plot(kind = 'bar', figsize = (20,5))\n",
        "plt.title(\"Gasto per capita em Procedimentos Hospitalares por Local de Internação - Jul/2020\") \n",
        "plt.legend(bbox_to_anchor=(1, 1.017), loc='upper left')\n",
        "plt.xlabel('Unidade da Federação (UF)')\n",
        "plt.ylabel(\"Valor Gasto por UF\")\n",
        "plt.grid(True, alpha = 0.3)\n",
        "plt.show()"
      ],
      "execution_count": 45,
      "outputs": [
        {
          "output_type": "display_data",
          "data": {
            "image/png": "[encoded data removed]",
            "text/plain": [
              "<Figure size 1440x360 with 1 Axes>"
            ]
          },
          "metadata": {
            "tags": [],
            "needs_background": "light"
          }
        }
      ]
    },
    {
      "cell_type": "markdown",
      "metadata": {
        "id": "SoWNsCCdHUeQ"
      },
      "source": [
        "Ordenação do gasto per capita pela população"
      ]
    },
    {
      "cell_type": "code",
      "metadata": {
        "colab": {
          "base_uri": "https://localhost:8080/",
          "height": 0
        },
        "id": "bI9LSbHsGPf2",
        "outputId": "5549db5f-3ab5-4512-a858-a8d3fbba455a"
      },
      "source": [
        "ax = gasto_e_populacao_recente.sort_values([\"populacao\"], ascending=False)[\"gastos_per_capita\"].plot(kind = 'bar', figsize = (20,5))\n",
        "#ax.yaxis.set_major_formatter(ticker.FuncFormatter(reformat_large_tick_values))\n",
        "plt.title(\"Gasto per capita em Procedimentos Hospitalares por Local de Internação - Jul/2020\") \n",
        "plt.legend(bbox_to_anchor=(1, 1.017), loc='upper left')\n",
        "plt.xlabel('Unidade da Federação (UF)')\n",
        "plt.ylabel(\"Valor Gasto por UF\")\n",
        "plt.grid(True, alpha = 0.3)\n",
        "plt.show()"
      ],
      "execution_count": 46,
      "outputs": [
        {
          "output_type": "display_data",
          "data": {
            "image/png": "[encoded data removed]",
            "text/plain": [
              "<Figure size 1440x360 with 1 Axes>"
            ]
          },
          "metadata": {
            "tags": [],
            "needs_background": "light"
          }
        }
      ]
    },
    {
      "cell_type": "markdown",
      "metadata": {
        "id": "OHiMoZ2PenUe"
      },
      "source": [
        "## **Desafio 2**: fazer os ultimos gráficos para o mês anterior"
      ]
    },
    {
      "cell_type": "markdown",
      "metadata": {
        "id": "OLUwZqFmjuv5"
      },
      "source": [
        "### Tratamento dos dados"
      ]
    },
    {
      "cell_type": "code",
      "metadata": {
        "id": "flPSdOPdgTR4"
      },
      "source": [
        "ordenado_por_total.index = ordenado_por_total.index.str[3:]\n",
        "#ordenado_por_total[:1]"
      ],
      "execution_count": 47,
      "outputs": []
    },
    {
      "cell_type": "code",
      "metadata": {
        "id": "CbaCRGBQg2GR"
      },
      "source": [
        "## Função criada anteriormente\n",
        "total_populacao_sorted = limpeza_join(dados_wikipedia[0], ordenado_por_total)\n",
        "#total_populacao_sorted"
      ],
      "execution_count": 48,
      "outputs": []
    },
    {
      "cell_type": "code",
      "metadata": {
        "colab": {
          "base_uri": "https://localhost:8080/",
          "height": 0
        },
        "id": "WnxRloH6hl_P",
        "outputId": "8d1c9482-2f22-4ccf-f964-086dcb621722"
      },
      "source": [
        "penultimo_mes = total_populacao_sorted.columns[-3]\n",
        "penultimo_mes"
      ],
      "execution_count": 49,
      "outputs": [
        {
          "output_type": "execute_result",
          "data": {
            "application/vnd.google.colaboratory.intrinsic+json": {
              "type": "string"
            },
            "text/plain": [
              "'2020/Jun'"
            ]
          },
          "metadata": {
            "tags": []
          },
          "execution_count": 49
        }
      ]
    },
    {
      "cell_type": "code",
      "metadata": {
        "colab": {
          "base_uri": "https://localhost:8080/"
        },
        "id": "VU8rX6uVkSwE",
        "outputId": "df22c20f-a87d-4d34-8a18-13c07c74cb71"
      },
      "source": [
        "gastos = total_populacao_sorted[['2020/Jun', 'populacao']]\n",
        "gastos[f\"percapita_2020/Jun\"] = gastos[\"2020/Jun\"] / gastos[\"populacao\"]\n",
        "#gastos[:2]"
      ],
      "execution_count": 50,
      "outputs": [
        {
          "output_type": "stream",
          "text": [
            "/usr/local/lib/python3.6/dist-packages/ipykernel_launcher.py:2: SettingWithCopyWarning: \n",
            "A value is trying to be set on a copy of a slice from a DataFrame.\n",
            "Try using .loc[row_indexer,col_indexer] = value instead\n",
            "\n",
            "See the caveats in the documentation: https://pandas.pydata.org/pandas-docs/stable/user_guide/indexing.html#returning-a-view-versus-a-copy\n",
            "  \n"
          ],
          "name": "stderr"
        }
      ]
    },
    {
      "cell_type": "markdown",
      "metadata": {
        "id": "wM75VMGSj5Ol"
      },
      "source": [
        "### Gráficos Plotados"
      ]
    },
    {
      "cell_type": "code",
      "metadata": {
        "colab": {
          "base_uri": "https://localhost:8080/",
          "height": 0
        },
        "id": "wef8Jp0Wj0T-",
        "outputId": "fb5f990a-333f-4381-b626-1ddcc30d5600"
      },
      "source": [
        "#import seaborn as sns\n",
        "ax = sns.scatterplot(data=gastos, x=\"populacao\", y = penultimo_mes, sizes = (720,720))#, hue = gastos.index)\n",
        "#plt.legend(title='Unidade da Federação', bbox_to_anchor=(1, 1.017), loc='upper left')\n",
        "ax.yaxis.set_major_formatter(ticker.FuncFormatter(reformat_large_tick_values))\n",
        "ax.xaxis.set_major_formatter(ticker.FuncFormatter(reformat_large_tick_values))\n",
        "plt.xlabel(\"População\")\n",
        "plt.ylabel(\"Total Gasto por Estado\")\n",
        "#plt.figure(figsize=(10,10))\n",
        "plt.show()"
      ],
      "execution_count": 51,
      "outputs": [
        {
          "output_type": "display_data",
          "data": {
            "image/png": "[encoded data removed]",
            "text/plain": [
              "<Figure size 432x288 with 1 Axes>"
            ]
          },
          "metadata": {
            "tags": [],
            "needs_background": "light"
          }
        }
      ]
    },
    {
      "cell_type": "code",
      "metadata": {
        "colab": {
          "base_uri": "https://localhost:8080/",
          "height": 0
        },
        "id": "LR672La4uHYe",
        "outputId": "6a3c4989-6ff1-42f7-b1d5-86a940f66c54"
      },
      "source": [
        "#import seaborn as sns\n",
        "ax = sns.scatterplot(data=gastos, x= \"populacao\", y = \"percapita_2020/Jun\", sizes = (720,720))\n",
        "ax.xaxis.set_major_formatter(ticker.FuncFormatter(reformat_large_tick_values))\n",
        "plt.xlabel(\"População\")\n",
        "plt.ylabel(\"Total Gasto por habitante\")\n",
        "plt.show()"
      ],
      "execution_count": 52,
      "outputs": [
        {
          "output_type": "display_data",
          "data": {
            "image/png": "[encoded data removed]",
            "text/plain": [
              "<Figure size 432x288 with 1 Axes>"
            ]
          },
          "metadata": {
            "tags": [],
            "needs_background": "light"
          }
        }
      ]
    },
    {
      "cell_type": "markdown",
      "metadata": {
        "id": "kMptDf7Qe0pn"
      },
      "source": [
        "## **Desafio 3**: os ultimos gráficos com os dois meses no mesmo gráfico, diferenciando por cor"
      ]
    },
    {
      "cell_type": "markdown",
      "metadata": {
        "id": "cdjG7abOZwMI"
      },
      "source": [
        "### Tratando os dados"
      ]
    },
    {
      "cell_type": "code",
      "metadata": {
        "id": "lVAF6AuzxoLD"
      },
      "source": [
        "penultimo_mes = ordenado_por_total.columns[-3]\n",
        "mes_mais_recente = ordenado_por_total.columns[-2]"
      ],
      "execution_count": 53,
      "outputs": []
    },
    {
      "cell_type": "code",
      "metadata": {
        "id": "OFSH9eUzxtGM",
        "colab": {
          "base_uri": "https://localhost:8080/"
        },
        "outputId": "b37b2ec5-8694-4e76-a961-4f87030a60e8"
      },
      "source": [
        "gastos[mes_mais_recente] = ordenado_por_total[mes_mais_recente]"
      ],
      "execution_count": 54,
      "outputs": [
        {
          "output_type": "stream",
          "text": [
            "/usr/local/lib/python3.6/dist-packages/ipykernel_launcher.py:1: SettingWithCopyWarning: \n",
            "A value is trying to be set on a copy of a slice from a DataFrame.\n",
            "Try using .loc[row_indexer,col_indexer] = value instead\n",
            "\n",
            "See the caveats in the documentation: https://pandas.pydata.org/pandas-docs/stable/user_guide/indexing.html#returning-a-view-versus-a-copy\n",
            "  \"\"\"Entry point for launching an IPython kernel.\n"
          ],
          "name": "stderr"
        }
      ]
    },
    {
      "cell_type": "code",
      "metadata": {
        "colab": {
          "base_uri": "https://localhost:8080/"
        },
        "id": "DhbjXdldZ373",
        "outputId": "9f848fb1-90c7-417d-f7d8-4dab1c441bee"
      },
      "source": [
        "\n",
        "gastos[f\"percapita_{mes_mais_recente}\"] = gastos[mes_mais_recente] / gastos[\"populacao\"]"
      ],
      "execution_count": 55,
      "outputs": [
        {
          "output_type": "stream",
          "text": [
            "/usr/local/lib/python3.6/dist-packages/ipykernel_launcher.py:2: SettingWithCopyWarning: \n",
            "A value is trying to be set on a copy of a slice from a DataFrame.\n",
            "Try using .loc[row_indexer,col_indexer] = value instead\n",
            "\n",
            "See the caveats in the documentation: https://pandas.pydata.org/pandas-docs/stable/user_guide/indexing.html#returning-a-view-versus-a-copy\n",
            "  \n"
          ],
          "name": "stderr"
        }
      ]
    },
    {
      "cell_type": "markdown",
      "metadata": {
        "id": "jdMrzJBrcYW-"
      },
      "source": [
        "Ordenando colunas, alguns exemplos\n",
        "\n",
        "*  df.sort_index(axis=1, inplace=True) \n",
        "*  df = df.sort_index(axis=1) \n",
        "*  df = df.reindex(sorted(df.columns), axis=1)  \n",
        "\n"
      ]
    },
    {
      "cell_type": "code",
      "metadata": {
        "colab": {
          "base_uri": "https://localhost:8080/",
          "height": 0
        },
        "id": "MJ61xbgZaS1I",
        "outputId": "84e18c13-78c6-4bc3-e60f-5637d80bd98f"
      },
      "source": [
        "# como eram poucas colunas fiz do jeito mais fácil\n",
        "gastos = gastos[['populacao', '2020/Jun','percapita_2020/Jun','2020/Jul', 'percapita_2020/Jul']]\n",
        "gastos[:1]"
      ],
      "execution_count": 56,
      "outputs": [
        {
          "output_type": "execute_result",
          "data": {
            "text/html": [
              "<div>\n",
              "<style scoped>\n",
              "    .dataframe tbody tr th:only-of-type {\n",
              "        vertical-align: middle;\n",
              "    }\n",
              "\n",
              "    .dataframe tbody tr th {\n",
              "        vertical-align: top;\n",
              "    }\n",
              "\n",
              "    .dataframe thead th {\n",
              "        text-align: right;\n",
              "    }\n",
              "</style>\n",
              "<table border=\"1\" class=\"dataframe\">\n",
              "  <thead>\n",
              "    <tr style=\"text-align: right;\">\n",
              "      <th></th>\n",
              "      <th>populacao</th>\n",
              "      <th>2020/Jun</th>\n",
              "      <th>percapita_2020/Jun</th>\n",
              "      <th>2020/Jul</th>\n",
              "      <th>percapita_2020/Jul</th>\n",
              "    </tr>\n",
              "    <tr>\n",
              "      <th>uf</th>\n",
              "      <th></th>\n",
              "      <th></th>\n",
              "      <th></th>\n",
              "      <th></th>\n",
              "      <th></th>\n",
              "    </tr>\n",
              "  </thead>\n",
              "  <tbody>\n",
              "    <tr>\n",
              "      <th>São Paulo</th>\n",
              "      <td>46289333</td>\n",
              "      <td>299060851.62</td>\n",
              "      <td>6.46</td>\n",
              "      <td>282709570.31</td>\n",
              "      <td>6.11</td>\n",
              "    </tr>\n",
              "  </tbody>\n",
              "</table>\n",
              "</div>"
            ],
            "text/plain": [
              "           populacao     2020/Jun  ...     2020/Jul  percapita_2020/Jul\n",
              "uf                                 ...                                 \n",
              "São Paulo   46289333 299060851.62  ... 282709570.31                6.11\n",
              "\n",
              "[1 rows x 5 columns]"
            ]
          },
          "metadata": {
            "tags": []
          },
          "execution_count": 56
        }
      ]
    },
    {
      "cell_type": "markdown",
      "metadata": {
        "id": "9PsMcz3ceScP"
      },
      "source": [
        "Criando uma função para automatizar o inserção da coluna gastos (Ano/Mês) e gasto_per_capita"
      ]
    },
    {
      "cell_type": "code",
      "metadata": {
        "id": "5AZuzRD1ectS"
      },
      "source": [
        "# gastos = destino\n",
        "# ordenado_por_total = origem\n",
        "\n",
        "def insere_gastototal_percapita (dados_origem : pd.DataFrame, dados_destino: pd.DataFrame, mes:str):\n",
        "  dados_destino[f\"{mes}\"] = dados_origem[mes]\n",
        "  dados_destino[f\"percapita_{mes}\"] = dados_origem[mes] / dados_destino['populacao']\n",
        "  dados_destino.sort_index(axis=1, inplace=True, ascending=False)"
      ],
      "execution_count": 57,
      "outputs": []
    },
    {
      "cell_type": "markdown",
      "metadata": {
        "id": "CTB_0cb6fIsx"
      },
      "source": [
        "Teste"
      ]
    },
    {
      "cell_type": "code",
      "metadata": {
        "colab": {
          "base_uri": "https://localhost:8080/",
          "height": 0
        },
        "id": "DIxUNJjQiLdc",
        "outputId": "f1bd7f3a-1b42-433d-f7e8-1abdc6e10107"
      },
      "source": [
        "#Maio\n",
        "insere_gastototal_percapita (ordenado_por_total, gastos, ordenado_por_total.columns[-4])\n",
        "gastos[:1]"
      ],
      "execution_count": 58,
      "outputs": [
        {
          "output_type": "execute_result",
          "data": {
            "text/html": [
              "<div>\n",
              "<style scoped>\n",
              "    .dataframe tbody tr th:only-of-type {\n",
              "        vertical-align: middle;\n",
              "    }\n",
              "\n",
              "    .dataframe tbody tr th {\n",
              "        vertical-align: top;\n",
              "    }\n",
              "\n",
              "    .dataframe thead th {\n",
              "        text-align: right;\n",
              "    }\n",
              "</style>\n",
              "<table border=\"1\" class=\"dataframe\">\n",
              "  <thead>\n",
              "    <tr style=\"text-align: right;\">\n",
              "      <th></th>\n",
              "      <th>populacao</th>\n",
              "      <th>percapita_2020/Mai</th>\n",
              "      <th>percapita_2020/Jun</th>\n",
              "      <th>percapita_2020/Jul</th>\n",
              "      <th>2020/Mai</th>\n",
              "      <th>2020/Jun</th>\n",
              "      <th>2020/Jul</th>\n",
              "    </tr>\n",
              "    <tr>\n",
              "      <th>uf</th>\n",
              "      <th></th>\n",
              "      <th></th>\n",
              "      <th></th>\n",
              "      <th></th>\n",
              "      <th></th>\n",
              "      <th></th>\n",
              "      <th></th>\n",
              "    </tr>\n",
              "  </thead>\n",
              "  <tbody>\n",
              "    <tr>\n",
              "      <th>São Paulo</th>\n",
              "      <td>46289333</td>\n",
              "      <td>6.54</td>\n",
              "      <td>6.46</td>\n",
              "      <td>6.11</td>\n",
              "      <td>302857660.98</td>\n",
              "      <td>299060851.62</td>\n",
              "      <td>282709570.31</td>\n",
              "    </tr>\n",
              "  </tbody>\n",
              "</table>\n",
              "</div>"
            ],
            "text/plain": [
              "           populacao  percapita_2020/Mai  ...     2020/Jun     2020/Jul\n",
              "uf                                        ...                          \n",
              "São Paulo   46289333                6.54  ... 299060851.62 282709570.31\n",
              "\n",
              "[1 rows x 7 columns]"
            ]
          },
          "metadata": {
            "tags": []
          },
          "execution_count": 58
        }
      ]
    },
    {
      "cell_type": "code",
      "metadata": {
        "id": "qWolO_3vjio9",
        "colab": {
          "base_uri": "https://localhost:8080/",
          "height": 0
        },
        "outputId": "bb9f12ed-5714-4f3b-94ff-82f26373ad57"
      },
      "source": [
        "#Abril\n",
        "insere_gastototal_percapita (ordenado_por_total, gastos, ordenado_por_total.columns[-5])\n",
        "gastos[:1]"
      ],
      "execution_count": 59,
      "outputs": [
        {
          "output_type": "execute_result",
          "data": {
            "text/html": [
              "<div>\n",
              "<style scoped>\n",
              "    .dataframe tbody tr th:only-of-type {\n",
              "        vertical-align: middle;\n",
              "    }\n",
              "\n",
              "    .dataframe tbody tr th {\n",
              "        vertical-align: top;\n",
              "    }\n",
              "\n",
              "    .dataframe thead th {\n",
              "        text-align: right;\n",
              "    }\n",
              "</style>\n",
              "<table border=\"1\" class=\"dataframe\">\n",
              "  <thead>\n",
              "    <tr style=\"text-align: right;\">\n",
              "      <th></th>\n",
              "      <th>populacao</th>\n",
              "      <th>percapita_2020/Mai</th>\n",
              "      <th>percapita_2020/Jun</th>\n",
              "      <th>percapita_2020/Jul</th>\n",
              "      <th>percapita_2020/Abr</th>\n",
              "      <th>2020/Mai</th>\n",
              "      <th>2020/Jun</th>\n",
              "      <th>2020/Jul</th>\n",
              "      <th>2020/Abr</th>\n",
              "    </tr>\n",
              "    <tr>\n",
              "      <th>uf</th>\n",
              "      <th></th>\n",
              "      <th></th>\n",
              "      <th></th>\n",
              "      <th></th>\n",
              "      <th></th>\n",
              "      <th></th>\n",
              "      <th></th>\n",
              "      <th></th>\n",
              "      <th></th>\n",
              "    </tr>\n",
              "  </thead>\n",
              "  <tbody>\n",
              "    <tr>\n",
              "      <th>São Paulo</th>\n",
              "      <td>46289333</td>\n",
              "      <td>6.54</td>\n",
              "      <td>6.46</td>\n",
              "      <td>6.11</td>\n",
              "      <td>5.44</td>\n",
              "      <td>302857660.98</td>\n",
              "      <td>299060851.62</td>\n",
              "      <td>282709570.31</td>\n",
              "      <td>251696362.66</td>\n",
              "    </tr>\n",
              "  </tbody>\n",
              "</table>\n",
              "</div>"
            ],
            "text/plain": [
              "           populacao  percapita_2020/Mai  ...     2020/Jul     2020/Abr\n",
              "uf                                        ...                          \n",
              "São Paulo   46289333                6.54  ... 282709570.31 251696362.66\n",
              "\n",
              "[1 rows x 9 columns]"
            ]
          },
          "metadata": {
            "tags": []
          },
          "execution_count": 59
        }
      ]
    },
    {
      "cell_type": "markdown",
      "metadata": {
        "id": "aq5F4TPdZzzP"
      },
      "source": [
        "### Plotando os gráficos"
      ]
    },
    {
      "cell_type": "code",
      "metadata": {
        "colab": {
          "base_uri": "https://localhost:8080/",
          "height": 279
        },
        "id": "7B2FHMuW5m68",
        "outputId": "22fcfa3e-d98b-493e-cc5b-d255504a10c0"
      },
      "source": [
        "#import seaborn as sns\n",
        "ax = sns.scatterplot(data=gastos, x=\"populacao\", y = '2020/Jul', sizes = (720,720))#, hue = gastos.index)\n",
        "ax = sns.scatterplot(data=gastos, x=\"populacao\", y = '2020/Jun', sizes = (720,720))#, hue = gastos.index)\n",
        "ax = sns.scatterplot(data=gastos, x=\"populacao\", y = '2020/Mai', sizes = (720,720))#, hue = gastos.index)\n",
        "#plt.legend(title='Unidade da Federação', bbox_to_anchor=(1, 1.017), loc='upper left')\n",
        "ax.yaxis.set_major_formatter(ticker.FuncFormatter(reformat_large_tick_values))\n",
        "ax.xaxis.set_major_formatter(ticker.FuncFormatter(reformat_large_tick_values))\n",
        "plt.xlabel(\"População\")\n",
        "plt.ylabel(\"Total Gasto por Estado\")\n",
        "#plt.figure(figsize=(10,10))\n",
        "plt.show()"
      ],
      "execution_count": 60,
      "outputs": [
        {
          "output_type": "display_data",
          "data": {
            "image/png": "[encoded data removed]",
            "text/plain": [
              "<Figure size 432x288 with 1 Axes>"
            ]
          },
          "metadata": {
            "tags": [],
            "needs_background": "light"
          }
        }
      ]
    },
    {
      "cell_type": "code",
      "metadata": {
        "colab": {
          "base_uri": "https://localhost:8080/",
          "height": 279
        },
        "id": "F6ei44B37WLV",
        "outputId": "9aa22b2e-8045-4594-a3b8-7bc6d19dc08a"
      },
      "source": [
        "#import seaborn as sns\n",
        "ax = sns.scatterplot(data=gastos, x= \"populacao\", y = \"percapita_2020/Jun\", sizes = (720,720))\n",
        "ax = sns.scatterplot(data=gastos, x= \"populacao\", y = \"percapita_2020/Jul\", sizes = (720,720))\n",
        "ax = sns.scatterplot(data=gastos, x= \"populacao\", y = \"percapita_2020/Mai\", sizes = (720,720))\n",
        "ax.xaxis.set_major_formatter(ticker.FuncFormatter(reformat_large_tick_values))\n",
        "plt.xlabel(\"População\")\n",
        "plt.ylabel(\"Total Gasto por habitante\")\n",
        "plt.show()"
      ],
      "execution_count": 61,
      "outputs": [
        {
          "output_type": "display_data",
          "data": {
            "image/png": "[encoded data removed]",
            "text/plain": [
              "<Figure size 432x288 with 1 Axes>"
            ]
          },
          "metadata": {
            "tags": [],
            "needs_background": "light"
          }
        }
      ]
    },
    {
      "cell_type": "markdown",
      "metadata": {
        "id": "3Edacs3D8IMt"
      },
      "source": [
        "## **Desafio 4**: Analise os gráficos e tente chegar a hipóteses que explicam o que está entendendo dos dados. Lembre-se que a conclusão é uma hipótesee que esses dados serão alterados."
      ]
    },
    {
      "cell_type": "markdown",
      "metadata": {
        "id": "6v3e6RmlBIr8"
      },
      "source": [
        "### Analisando outras visões dos gráficos"
      ]
    },
    {
      "cell_type": "code",
      "metadata": {
        "colab": {
          "base_uri": "https://localhost:8080/",
          "height": 0
        },
        "id": "z2bDKY7T8fuK",
        "outputId": "d53aedd6-cb1c-41c7-e5c0-fa6131d9144d"
      },
      "source": [
        "#import seaborn as sns\n",
        "ax = sns.scatterplot(data=gastos, x= \"populacao\", y = \"percapita_2020/Jun\", sizes = (720,720))\n",
        "ax = sns.scatterplot(data=gastos, x= \"populacao\", y = \"percapita_2020/Jul\", sizes = (720,720))\n",
        "ax = sns.scatterplot(data=gastos, x= \"populacao\", y = \"percapita_2020/Mai\", sizes = (720,720))\n",
        "ax.xaxis.set_major_formatter(ticker.FuncFormatter(reformat_large_tick_values))\n",
        "#plt.legend(title='Unidade da Federação', bbox_to_anchor=(1, 1.017), loc='upper left')\n",
        "plt.xlabel(\"População\")\n",
        "plt.ylabel(\"Total Gasto por habitante\")\n",
        "plt.show()"
      ],
      "execution_count": 62,
      "outputs": [
        {
          "output_type": "display_data",
          "data": {
            "image/png": "[encoded data removed]",
            "text/plain": [
              "<Figure size 432x288 with 1 Axes>"
            ]
          },
          "metadata": {
            "tags": [],
            "needs_background": "light"
          }
        }
      ]
    },
    {
      "cell_type": "code",
      "metadata": {
        "colab": {
          "base_uri": "https://localhost:8080/",
          "height": 0
        },
        "id": "dV21SDCmJ2-i",
        "outputId": "eff9a38d-3ce9-458d-95e3-eb8ca48f7f84"
      },
      "source": [
        "sns.lmplot(data=gastos, x= \"populacao\", y = \"percapita_2020/Jun\")\n",
        "sns.lmplot(data=gastos, x= \"populacao\", y = \"percapita_2020/Jul\")\n",
        "sns.lmplot(data=gastos, x= \"populacao\", y = \"percapita_2020/Mai\")\n",
        "sns.lmplot(data=gastos, x= \"populacao\", y = \"percapita_2020/Abr\")"
      ],
      "execution_count": 63,
      "outputs": [
        {
          "output_type": "execute_result",
          "data": {
            "text/plain": [
              "<seaborn.axisgrid.FacetGrid at 0x7f4fffce55c0>"
            ]
          },
          "metadata": {
            "tags": []
          },
          "execution_count": 63
        },
        {
          "output_type": "display_data",
          "data": {
            "image/png": "[encoded data removed]",
            "text/plain": [
              "<Figure size 360x360 with 1 Axes>"
            ]
          },
          "metadata": {
            "tags": [],
            "needs_background": "light"
          }
        },
        {
          "output_type": "display_data",
          "data": {
            "image/png": "[encoded data removed]",
            "text/plain": [
              "<Figure size 360x360 with 1 Axes>"
            ]
          },
          "metadata": {
            "tags": [],
            "needs_background": "light"
          }
        },
        {
          "output_type": "display_data",
          "data": {
            "image/png": "[encoded data removed]",
            "text/plain": [
              "<Figure size 360x360 with 1 Axes>"
            ]
          },
          "metadata": {
            "tags": [],
            "needs_background": "light"
          }
        },
        {
          "output_type": "display_data",
          "data": {
            "image/png": "[encoded data removed]",
            "text/plain": [
              "<Figure size 360x360 with 1 Axes>"
            ]
          },
          "metadata": {
            "tags": [],
            "needs_background": "light"
          }
        }
      ]
    },
    {
      "cell_type": "markdown",
      "metadata": {
        "id": "NdcMPNAAGSr7"
      },
      "source": [
        "### Dados para resposta abaixo"
      ]
    },
    {
      "cell_type": "code",
      "metadata": {
        "id": "iffKgUimNwdk"
      },
      "source": [
        "gastos['total_percapita'] = gastos[gastos.columns[1:5]].sum(axis=1)\n",
        "ordernado_percapita = gastos.sort_values('total_percapita', ascending= False)\n",
        "ordernado_percapita.sort_index(axis=1, inplace=True, ascending=False)"
      ],
      "execution_count": 64,
      "outputs": []
    },
    {
      "cell_type": "code",
      "metadata": {
        "colab": {
          "base_uri": "https://localhost:8080/",
          "height": 0
        },
        "id": "BFbykWci5FnZ",
        "outputId": "5fc2d163-a71c-4a76-f4d6-bdca6dbb94de"
      },
      "source": [
        "ordernado_percapita[:3]"
      ],
      "execution_count": 65,
      "outputs": [
        {
          "output_type": "execute_result",
          "data": {
            "text/html": [
              "<div>\n",
              "<style scoped>\n",
              "    .dataframe tbody tr th:only-of-type {\n",
              "        vertical-align: middle;\n",
              "    }\n",
              "\n",
              "    .dataframe tbody tr th {\n",
              "        vertical-align: top;\n",
              "    }\n",
              "\n",
              "    .dataframe thead th {\n",
              "        text-align: right;\n",
              "    }\n",
              "</style>\n",
              "<table border=\"1\" class=\"dataframe\">\n",
              "  <thead>\n",
              "    <tr style=\"text-align: right;\">\n",
              "      <th></th>\n",
              "      <th>total_percapita</th>\n",
              "      <th>populacao</th>\n",
              "      <th>percapita_2020/Mai</th>\n",
              "      <th>percapita_2020/Jun</th>\n",
              "      <th>percapita_2020/Jul</th>\n",
              "      <th>percapita_2020/Abr</th>\n",
              "      <th>2020/Mai</th>\n",
              "      <th>2020/Jun</th>\n",
              "      <th>2020/Jul</th>\n",
              "      <th>2020/Abr</th>\n",
              "    </tr>\n",
              "    <tr>\n",
              "      <th>uf</th>\n",
              "      <th></th>\n",
              "      <th></th>\n",
              "      <th></th>\n",
              "      <th></th>\n",
              "      <th></th>\n",
              "      <th></th>\n",
              "      <th></th>\n",
              "      <th></th>\n",
              "      <th></th>\n",
              "      <th></th>\n",
              "    </tr>\n",
              "  </thead>\n",
              "  <tbody>\n",
              "    <tr>\n",
              "      <th>Paraná</th>\n",
              "      <td>32.65</td>\n",
              "      <td>11516840</td>\n",
              "      <td>9.21</td>\n",
              "      <td>8.07</td>\n",
              "      <td>6.97</td>\n",
              "      <td>8.40</td>\n",
              "      <td>106103737.62</td>\n",
              "      <td>92901461.36</td>\n",
              "      <td>80320852.69</td>\n",
              "      <td>96727112.19</td>\n",
              "    </tr>\n",
              "    <tr>\n",
              "      <th>Santa Catarina</th>\n",
              "      <td>29.82</td>\n",
              "      <td>7252502</td>\n",
              "      <td>7.84</td>\n",
              "      <td>7.79</td>\n",
              "      <td>7.14</td>\n",
              "      <td>7.06</td>\n",
              "      <td>56843604.33</td>\n",
              "      <td>56503747.99</td>\n",
              "      <td>51764534.76</td>\n",
              "      <td>51179993.45</td>\n",
              "    </tr>\n",
              "    <tr>\n",
              "      <th>Rio Grande do Sul</th>\n",
              "      <td>28.92</td>\n",
              "      <td>11422973</td>\n",
              "      <td>7.54</td>\n",
              "      <td>7.79</td>\n",
              "      <td>6.91</td>\n",
              "      <td>6.68</td>\n",
              "      <td>86076113.42</td>\n",
              "      <td>89019478.82</td>\n",
              "      <td>78929703.81</td>\n",
              "      <td>76294596.96</td>\n",
              "    </tr>\n",
              "  </tbody>\n",
              "</table>\n",
              "</div>"
            ],
            "text/plain": [
              "                   total_percapita  populacao  ...    2020/Jul    2020/Abr\n",
              "uf                                             ...                        \n",
              "Paraná                       32.65   11516840  ... 80320852.69 96727112.19\n",
              "Santa Catarina               29.82    7252502  ... 51764534.76 51179993.45\n",
              "Rio Grande do Sul            28.92   11422973  ... 78929703.81 76294596.96\n",
              "\n",
              "[3 rows x 10 columns]"
            ]
          },
          "metadata": {
            "tags": []
          },
          "execution_count": 65
        }
      ]
    },
    {
      "cell_type": "code",
      "metadata": {
        "colab": {
          "base_uri": "https://localhost:8080/"
        },
        "id": "NRDFs-YD5d6n",
        "outputId": "fc8783b6-3e21-426c-a7c2-deeab025d668"
      },
      "source": [
        "colunas_usaveis = ordernado_percapita.columns[0:6]\n",
        "colunas_usaveis = colunas_usaveis.drop('populacao')\n",
        "colunas_usaveis"
      ],
      "execution_count": 66,
      "outputs": [
        {
          "output_type": "execute_result",
          "data": {
            "text/plain": [
              "Index(['total_percapita', 'percapita_2020/Mai', 'percapita_2020/Jun',\n",
              "       'percapita_2020/Jul', 'percapita_2020/Abr'],\n",
              "      dtype='object')"
            ]
          },
          "metadata": {
            "tags": []
          },
          "execution_count": 66
        }
      ]
    },
    {
      "cell_type": "markdown",
      "metadata": {
        "id": "QeWI5GFOBPVc"
      },
      "source": [
        "### Pq o total por habitante, o estado que ficou em 1º lugar foi Paraná?  "
      ]
    },
    {
      "cell_type": "markdown",
      "metadata": {
        "id": "O3JMDDjVBjzd"
      },
      "source": [
        "Eu li alguns artigos de saúde, pq eu não estava conseguindo acessar o Tabnet DataSUS... Eu vi algumas variáveis que influenciaram no valor por habitante, que pode ser\n",
        "\n",
        "*   Nível de Complexidade nos procedimento (Muitas cirurgias no SUL)\n",
        "*   Tempo de permanencia de internação complexas\n",
        "*   Quantidade de hospitais de médio (mais de 100 leitos) e grande porte (mais de 200 leitos), nesses leitos não são contabilizados leitos de longa duração e leitos hospital-dia\n",
        "*   Quantidade de leitos disponíveis por 1000 habitantes\n",
        "*   A região Sul tem as maiores taxas de internação\n",
        "*   Melhor qualidade e efetividade da atenção hospitalar (segundo o estudo, por isso eles internam mais e mais rápido)\n",
        "\n",
        "obs: Os leitos de longa permanência abrangem leitos das seguintes categorias: crônicos, psiquiatria, reabilitação, tisiologia e acolhimento noturno\n"
      ]
    },
    {
      "cell_type": "code",
      "metadata": {
        "colab": {
          "base_uri": "https://localhost:8080/",
          "height": 560
        },
        "id": "_fu2Y-mVMWhZ",
        "outputId": "5f2f9d44-388b-430b-b680-b1181776a775"
      },
      "source": [
        "ax = ordernado_percapita[colunas_usaveis].T.plot(kind = \"bar\", figsize = (20,7.75))\n",
        "plt.legend(title='Unidade da Federação', bbox_to_anchor=(1, 1.017), loc='upper left')\n",
        "\n",
        "plt.grid(True, alpha = 0.5)"
      ],
      "execution_count": 67,
      "outputs": [
        {
          "output_type": "display_data",
          "data": {
            "image/png": "[encoded data removed]",
            "text/plain": [
              "<Figure size 1440x558 with 1 Axes>"
            ]
          },
          "metadata": {
            "tags": [],
            "needs_background": "light"
          }
        }
      ]
    },
    {
      "cell_type": "markdown",
      "metadata": {
        "id": "iQa1mOIeGphK"
      },
      "source": [
        "Houve uma redução dos valores por habitante, algumas das explicações \n",
        "\n",
        "*   Maior quantidade de campanhas preventivas e políticas públicas com relação a saúde da família\n",
        "*   Procedimentos de prevenções são menos custosos que os mais intensivos\n",
        "\n",
        "* Na região Norte e Nordeste, o valor está se aproximando do valor médio por habitante, o principal motivo aumento da quantidade de hospitais do SUS nas regiões para todas as complexidades e de todos os portes.\n",
        "\n",
        "\n",
        "Estamos caminhando para um valor de internação por habitante mais igualitário ou menos discrepando no Brasil.\n"
      ]
    },
    {
      "cell_type": "code",
      "metadata": {
        "colab": {
          "base_uri": "https://localhost:8080/",
          "height": 554
        },
        "id": "d0EgXxAh4iLw",
        "outputId": "a011dfcf-eb41-4572-f360-043d22a2e7f4"
      },
      "source": [
        "ordernado_percapita['media_percapita'] = ordernado_percapita['total_percapita'] / 4\n",
        "ax = ordernado_percapita[['media_percapita', 'percapita_2020/Jul']].T.plot(kind = \"bar\", figsize = (20,7.75))\n",
        "plt.legend(title='Unidade da Federação', bbox_to_anchor=(1, 1.017), loc='upper left')\n",
        "\n",
        "plt.grid(True, alpha = 0.5)"
      ],
      "execution_count": 68,
      "outputs": [
        {
          "output_type": "display_data",
          "data": {
            "image/png": "[encoded data removed]",
            "text/plain": [
              "<Figure size 1440x558 with 1 Axes>"
            ]
          },
          "metadata": {
            "tags": [],
            "needs_background": "light"
          }
        }
      ]
    },
    {
      "cell_type": "markdown",
      "metadata": {
        "id": "UuomMrKBJmUH"
      },
      "source": [
        "# Aula 3"
      ]
    },
    {
      "cell_type": "markdown",
      "metadata": {
        "id": "2jmJGpBgO-Oh"
      },
      "source": [
        "Plotar por Estado"
      ]
    },
    {
      "cell_type": "code",
      "metadata": {
        "id": "e9Or0_EuP33W"
      },
      "source": [
        "colunas_usaveis = ordenado_por_total.columns.drop('Total')\n",
        "colunas_usaveis = colunas_usaveis.drop(colunas_usaveis[0:6])\n",
        "colunas_usaveis"
      ],
      "execution_count": 69,
      "outputs": []
    },
    {
      "cell_type": "code",
      "metadata": {
        "id": "2fvMzInAVWnM"
      },
      "source": [
        "mensal = ordenado_por_total[colunas_usaveis].T\n",
        "mensal = mensal / 1000000"
      ],
      "execution_count": 73,
      "outputs": []
    },
    {
      "cell_type": "code",
      "metadata": {
        "colab": {
          "base_uri": "https://localhost:8080/",
          "height": 282
        },
        "id": "fgn0zQX9O8x3",
        "outputId": "1022c8ec-55d1-4bc4-d480-a89daadcfb96"
      },
      "source": [
        "sns.scatterplot(data = mensal, x = mensal.index, y= 'São Paulo' )"
      ],
      "execution_count": 75,
      "outputs": [
        {
          "output_type": "execute_result",
          "data": {
            "text/plain": [
              "<matplotlib.axes._subplots.AxesSubplot at 0x7f4ffd02a128>"
            ]
          },
          "metadata": {
            "tags": []
          },
          "execution_count": 75
        },
        {
          "output_type": "display_data",
          "data": {
            "image/png": "[encoded data removed]",
            "text/plain": [
              "<Figure size 432x288 with 1 Axes>"
            ]
          },
          "metadata": {
            "tags": [],
            "needs_background": "light"
          }
        }
      ]
    },
    {
      "cell_type": "markdown",
      "metadata": {
        "id": "ZqOA0aOJ4b97"
      },
      "source": [
        "### **Desafio 1**: Use o seu estado"
      ]
    },
    {
      "cell_type": "code",
      "metadata": {
        "colab": {
          "base_uri": "https://localhost:8080/",
          "height": 282
        },
        "id": "dFo6eRhR4bDs",
        "outputId": "5bf1f387-902e-4721-e96f-faed443187ca"
      },
      "source": [
        "sns.lineplot(data = mensal, x = mensal.index, y= 'Mato Grosso do Sul')"
      ],
      "execution_count": 81,
      "outputs": [
        {
          "output_type": "execute_result",
          "data": {
            "text/plain": [
              "<matplotlib.axes._subplots.AxesSubplot at 0x7f4ff4beb780>"
            ]
          },
          "metadata": {
            "tags": []
          },
          "execution_count": 81
        },
        {
          "output_type": "display_data",
          "data": {
            "image/png": "[encoded data removed]",
            "text/plain": [
              "<Figure size 432x288 with 1 Axes>"
            ]
          },
          "metadata": {
            "tags": [],
            "needs_background": "light"
          }
        }
      ]
    },
    {
      "cell_type": "markdown",
      "metadata": {
        "id": "hVykEfi0Jrbm"
      },
      "source": [
        "# Aula 4"
      ]
    },
    {
      "cell_type": "code",
      "metadata": {
        "id": "GIDxfnD3JtCt"
      },
      "source": [
        ""
      ],
      "execution_count": 72,
      "outputs": []
    }
  ]
}