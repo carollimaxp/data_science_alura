{
  "nbformat": 4,
  "nbformat_minor": 0,
  "metadata": {
    "colab": {
      "name": "DS Bootcamp - Módulo 2",
      "provenance": [],
      "authorship_tag": "ABX9TyOU1feoNnHILyUYU0ud9AVj",
      "include_colab_link": true
    },
    "kernelspec": {
      "name": "python3",
      "display_name": "Python 3"
    }
  },
  "cells": [
    {
      "cell_type": "markdown",
      "metadata": {
        "id": "view-in-github",
        "colab_type": "text"
      },
      "source": [
        "<a href=\"https://colab.research.google.com/github/carollimaxp/data_science_alura/blob/main/DS_Bootcamp_M%C3%B3dulo_2.ipynb\" target=\"_parent\"><img src=\"https://colab.research.google.com/assets/colab-badge.svg\" alt=\"Open In Colab\"/></a>"
      ]
    },
    {
      "cell_type": "markdown",
      "metadata": {
        "id": "uPj-yEEARC9G"
      },
      "source": [
        "# Pré Aula 1\n",
        "\n",
        "\n",
        "1.   Imports\n",
        "2.   Transformação dos milhares\n",
        "\n"
      ]
    },
    {
      "cell_type": "markdown",
      "metadata": {
        "id": "GSAn2qYGQ3II"
      },
      "source": [
        "Imports para o Módulo 2"
      ]
    },
    {
      "cell_type": "code",
      "metadata": {
        "id": "N6BCQrZ8Qnjy"
      },
      "source": [
        "#Imports - Módulo 1\n",
        "import pandas as pd\n",
        "import matplotlib.pyplot as plt\n",
        "import matplotlib.ticker as ticker\n",
        "from matplotlib.font_manager import FontProperties\n",
        "import numpy as np"
      ],
      "execution_count": null,
      "outputs": []
    },
    {
      "cell_type": "markdown",
      "metadata": {
        "id": "O9J6jKztQxVH"
      },
      "source": [
        "Formatação dos Reais em milhões e bilhões"
      ]
    },
    {
      "cell_type": "code",
      "metadata": {
        "id": "Mna9V4A1QwRd"
      },
      "source": [
        "# url https://dfrieds.com/data-visualizations/when-use-log-scale.html\n",
        "\n",
        "def reformat_large_tick_values(tick_val, pos):\n",
        "    \"\"\"\n",
        "    Turns large tick values (in the billions, millions and thousands) such as 4500 into 4.5K and also appropriately turns 4000 into 4K (no zero after the decimal).\n",
        "    \"\"\"\n",
        "    if tick_val >= 1000000000:\n",
        "        val = round(tick_val/1000000000, 1)\n",
        "        new_tick_format = '{:}B'.format(val)\n",
        "    elif tick_val >= 1000000:\n",
        "        val = round(tick_val/1000000, 1)\n",
        "        new_tick_format = '{:}M'.format(val)\n",
        "    elif tick_val >= 1000:\n",
        "        val = round(tick_val/1000, 1)\n",
        "        new_tick_format = '{:}K'.format(val)\n",
        "    elif tick_val < 1000:\n",
        "        new_tick_format = round(tick_val, 1)\n",
        "    else:\n",
        "        new_tick_format = tick_val\n",
        "\n",
        "    # make new_tick_format into a string value\n",
        "    new_tick_format = str(new_tick_format)\n",
        "    \n",
        "    # code below will keep 4.5M as is but change values such as 4.0M to 4M since that zero after the decimal isn't needed\n",
        "    index_of_decimal = new_tick_format.find(\".\")\n",
        "    \n",
        "    if index_of_decimal != -1:\n",
        "        value_after_decimal = new_tick_format[index_of_decimal+1]\n",
        "        if value_after_decimal == \"0\":\n",
        "            # remove the 0 after the decimal point since it's not needed\n",
        "            new_tick_format = new_tick_format[0:index_of_decimal] + new_tick_format[index_of_decimal+2:]\n",
        "            \n",
        "    return new_tick_format"
      ],
      "execution_count": null,
      "outputs": []
    },
    {
      "cell_type": "markdown",
      "metadata": {
        "id": "pD0hYLLJQ7YP"
      },
      "source": [
        "# Aula 1"
      ]
    },
    {
      "cell_type": "markdown",
      "metadata": {
        "id": "gQ4IaqLZxZsL"
      },
      "source": [
        "### Leitura cvs"
      ]
    },
    {
      "cell_type": "code",
      "metadata": {
        "id": "UP7wZwaXwdfl"
      },
      "source": [
        "dados = pd.read_csv(\"https://raw.githubusercontent.com/carollimaxp/data_science_alura/main/Dados/A160324189_28_143_208.csv\", \n",
        "                    encoding=\"ISO-8859-1\", \n",
        "                    skiprows = 3,\n",
        "                    delimiter=\";\",\n",
        "                    skipfooter = 12,\n",
        "                    thousands=\".\",\n",
        "                    decimal=\",\",\n",
        "                    na_values = \"-\")\n",
        "dados.head()"
      ],
      "execution_count": null,
      "outputs": []
    },
    {
      "cell_type": "code",
      "metadata": {
        "id": "8-8myI9BxdYd"
      },
      "source": [
        "### ..."
      ],
      "execution_count": null,
      "outputs": []
    }
  ]
}